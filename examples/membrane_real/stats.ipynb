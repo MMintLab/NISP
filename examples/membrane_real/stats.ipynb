{
 "cells": [
  {
   "cell_type": "code",
   "execution_count": 1,
   "id": "b2332211-16e7-4867-91a2-241711b09b9f",
   "metadata": {},
   "outputs": [
    {
     "name": "stderr",
     "output_type": "stream",
     "text": [
      "Using backend: pytorch\n",
      "Other supported backends: tensorflow.compat.v1, tensorflow, jax, paddle.\n",
      "paddle supports more examples now and is recommended.\n"
     ]
    },
    {
     "name": "stdout",
     "output_type": "stream",
     "text": [
      "Jupyter environment detected. Enabling Open3D WebVisualizer.\n",
      "[Open3D INFO] WebRTC GUI backend enabled.\n",
      "[Open3D INFO] WebRTCWindowSystem: HTTP handshake server disabled.\n"
     ]
    },
    {
     "name": "stderr",
     "output_type": "stream",
     "text": [
      "2024-05-16 22:59:17.913498: W external/xla/xla/service/gpu/nvptx_compiler.cc:718] The NVIDIA driver's CUDA version is 12.2 which is older than the ptxas CUDA version (12.4.131). Because the driver is older than the ptxas version, XLA is disabling parallel compilation, which may slow down compilation. You should update your NVIDIA driver or use the NVIDIA-provided CUDA forward compatibility packages.\n",
      "WARNING:absl:Type handler registry overriding type \"<class 'float'>\" collision on scalar\n",
      "WARNING:absl:Type handler registry overriding type \"<class 'bytes'>\" collision on scalar\n",
      "WARNING:absl:Type handler registry overriding type \"<class 'numpy.number'>\" collision on scalar\n",
      "WARNING:absl:Tensorflow library not found, tensorflow.io.gfile operations will use native shim calls. GCS paths (i.e. 'gs://...') cannot be accessed.\n"
     ]
    },
    {
     "name": "stdout",
     "output_type": "stream",
     "text": [
      "Chamfer Distance: 6.0\n"
     ]
    }
   ],
   "source": [
    "%load_ext autoreload\n",
    "%autoreload 2\n",
    "    \n",
    "import os \n",
    "os.environ[\"CUDA_VISIBLE_DEVICES\"] = \"1\"\n",
    "\n",
    "import jax.numpy as jnp\n",
    "import deepxde as dde\n",
    "\n",
    "from absl import flags\n",
    "from ml_collections import config_flags, config_dict\n",
    "from configs.ts import get_config\n",
    "from bubble_tools.bubble_tools.bubble_ellipsoid_tools import load_ellipse\n",
    "from utils import get_dataset\n",
    "from bubble_tools.aux.package_utils import get_mesh_path\n",
    "from bubble_tools.bubble_shape_tools.shape_tools import load_mesh\n",
    "import numpy as np\n",
    "from bubble_tools.bubble_tools.bubble_constants import get_bubble_frame_from_camera_frame\n",
    "from mmint_tools.camera_tools.pointcloud_utils import view_pointcloud, tr_pointcloud\n",
    "from bubble_tools.bubble_shape_tools.shape_tools import get_bubble_tool_contact_points_sdf\n",
    "import models\n",
    "from jaxpi.utils import restore_checkpoint\n",
    "from scipy.interpolate import griddata\n",
    "import csv\n",
    "from pathlib import Path\n",
    "from bubble_tools.bubble_tools.bubble_constants import get_bubble_v2_frame_from_camera_frame\n",
    "from bubble_tools.bubble_datasets.implemented_datasets.bubble_v2_dataset import BubbleV2Dataset"
   ]
  },
  {
   "cell_type": "code",
   "execution_count": 7,
   "id": "8d84c556-3df3-4425-b4cf-130254fae687",
   "metadata": {
    "scrolled": true
   },
   "outputs": [
    {
     "name": "stdout",
     "output_type": "stream",
     "text": [
      "Processing the data and saving it to /home/young/Research/jaxpi/examples/membrane_real_v3/data/bubble_v2_tactile_shadowing_data/processed_data/bubble_calibration_dataset\n"
     ]
    },
    {
     "name": "stderr",
     "output_type": "stream",
     "text": [
      "100%|██████████████████████████████████████████████████████████████████████████████████████████████████████████████████████████████████████████████████████████████| 60/60 [00:24<00:00,  2.44it/s]"
     ]
    },
    {
     "name": "stdout",
     "output_type": "stream",
     "text": [
      "Data processed\n"
     ]
    },
    {
     "name": "stderr",
     "output_type": "stream",
     "text": [
      "\n"
     ]
    }
   ],
   "source": [
    "\n",
    "data_dir = 'data'# Replace this with the path to the data (\"/data\")\n",
    "# data_name = 'bubble_v2_tactile_shadowing_data_only_o_45'\n",
    "data_name = 'bubble_v2_tactile_shadowing_data'\n",
    "\n",
    "data_path = os.path.join(data_dir, data_name)\n",
    "dataset = BubbleV2Dataset(data_name=data_path, \n",
    "                                    smoothed=True, \n",
    "                                    load_cache=False, \n",
    "                                    load_trajectories=False, \n",
    "                                        load_depth_filtered = True)\n",
    "\n",
    "indexs = [i for i in range(30)] + [53]\n",
    "# indexs = [i for i in range(22, 30)]\n",
    "# indexs = [i for i in range(40,46)]\n",
    "# indexs = [53]"
   ]
  },
  {
   "cell_type": "code",
   "execution_count": 8,
   "id": "4ab0804a-c926-4503-af1e-870a8502e8a9",
   "metadata": {},
   "outputs": [
    {
     "data": {
      "text/plain": [
       "60"
      ]
     },
     "execution_count": 8,
     "metadata": {},
     "output_type": "execute_result"
    }
   ],
   "source": [
    "dataset.__len__()"
   ]
  },
  {
   "cell_type": "code",
   "execution_count": 9,
   "id": "3b3dbbd8-2b05-401e-8e93-44b469f2508b",
   "metadata": {},
   "outputs": [],
   "source": [
    "def binary_mask_iou(mask1, mask2):\n",
    "    mask1_area = jnp.count_nonzero(mask1)\n",
    "    mask2_area = jnp.count_nonzero(mask2)\n",
    "    intersection = jnp.count_nonzero(jnp.logical_and(mask1, mask2))\n",
    "    iou = intersection / (mask1_area + mask2_area - intersection)\n",
    "    print(mask1_area,mask2_area ,intersection)\n",
    "    return iou"
   ]
  },
  {
   "cell_type": "code",
   "execution_count": 10,
   "id": "353ae8a8-13d1-49cc-bc60-2aab5e355e47",
   "metadata": {},
   "outputs": [
    {
     "name": "stdout",
     "output_type": "stream",
     "text": [
      "{'IDX': '0', 'log path': './ckpt/0', 'object': 'flower', 'wrench gt': '11.429175309519762', 'wrench est': '9.729071', 'wrench error': '1.7001047', 'p_thres': '2500.0', 'IoU': '0.59751225'}\n",
      "{'IDX': '1', 'log path': './ckpt/1', 'object': 'y_shape', 'wrench gt': '8.958210604468594', 'wrench est': '10.122303', 'wrench error': '1.1640921', 'p_thres': '2500.0', 'IoU': '0.582458'}\n",
      "{'IDX': '2', 'log path': './ckpt/2', 'object': 'half_cylinder_r20', 'wrench gt': '10.571094747017986', 'wrench est': '11.783887', 'wrench error': '1.2127924', 'p_thres': '2500.0', 'IoU': '0.5124378'}\n",
      "{'IDX': '3', 'log path': './ckpt/3', 'object': '90_curve', 'wrench gt': '8.782054342447822', 'wrench est': '7.4103003', 'wrench error': '1.3717537', 'p_thres': '2500.0', 'IoU': '0.5317073'}\n",
      "{'IDX': '4', 'log path': './ckpt/4', 'object': 'o_45', 'wrench gt': '6.783510697298957', 'wrench est': '4.347812', 'wrench error': '2.4356985', 'p_thres': '2500.0', 'IoU': '0.27065217'}\n",
      "{'IDX': '5', 'log path': './ckpt/5', 'object': 'round_cross_r10_90deg', 'wrench gt': '8.977005755221713', 'wrench est': '5.403266', 'wrench error': '3.57374', 'p_thres': '2500.0', 'IoU': '0.6148981'}\n",
      "{'IDX': '6', 'log path': './ckpt/6', 'object': 'flower', 'wrench gt': '11.465078862526164', 'wrench est': '10.607997', 'wrench error': '0.85708237', 'p_thres': '2500.0', 'IoU': '0.62959796'}\n",
      "{'IDX': '7', 'log path': './ckpt/7', 'object': 'y_shape', 'wrench gt': '8.909846596663861', 'wrench est': '8.023986', 'wrench error': '0.88586044', 'p_thres': '2500.0', 'IoU': '0.54384816'}\n",
      "{'IDX': '8', 'log path': './ckpt/8', 'object': 'half_cylinder_r20', 'wrench gt': '10.975470866479702', 'wrench est': '8.695955', 'wrench error': '2.2795153', 'p_thres': '2500.0', 'IoU': '0.61175877'}\n",
      "{'IDX': '9', 'log path': './ckpt/9', 'object': '90_curve', 'wrench gt': '8.8679662441054', 'wrench est': '7.7434607', 'wrench error': '1.124506', 'p_thres': '2500.0', 'IoU': '0.709607'}\n",
      "{'IDX': '10', 'log path': './ckpt/10', 'object': 'o_45', 'wrench gt': '9.085160971546896', 'wrench est': '9.01681', 'wrench error': '0.06835079', 'p_thres': '2500.0', 'IoU': '0.36454183'}\n",
      "{'IDX': '11', 'log path': './ckpt/11', 'object': 'round_cross_r10_90deg', 'wrench gt': '8.75737881392031', 'wrench est': '8.14665', 'wrench error': '0.61072826', 'p_thres': '2500.0', 'IoU': '0.6840758'}\n",
      "{'IDX': '12', 'log path': './ckpt/12', 'object': 'flower', 'wrench gt': '10.888639774953347', 'wrench est': '10.096331', 'wrench error': '0.7923088', 'p_thres': '2500.0', 'IoU': '0.56439584'}\n",
      "{'IDX': '13', 'log path': './ckpt/13', 'object': 'y_shape', 'wrench gt': '9.139018753107692', 'wrench est': '8.260137', 'wrench error': '0.8788824', 'p_thres': '2500.0', 'IoU': '0.44463772'}\n",
      "{'IDX': '14', 'log path': './ckpt/14', 'object': 'half_cylinder_r20', 'wrench gt': '11.347900569797709', 'wrench est': '10.087988', 'wrench error': '1.2599125', 'p_thres': '2500.0', 'IoU': '0.8286271'}\n",
      "{'IDX': '15', 'log path': './ckpt/15', 'object': '90_curve', 'wrench gt': '8.89528356249985', 'wrench est': '7.681037', 'wrench error': '1.2142467', 'p_thres': '2500.0', 'IoU': '0.46759263'}\n",
      "{'IDX': '16', 'log path': './ckpt/16', 'object': 'o_45', 'wrench gt': '8.774797976582196', 'wrench est': '10.261665', 'wrench error': '1.486867', 'p_thres': '2500.0', 'IoU': '0.32018927'}\n",
      "{'IDX': '17', 'log path': './ckpt/17', 'object': 'round_cross_r10_90deg', 'wrench gt': '9.204418238604266', 'wrench est': '7.737844', 'wrench error': '1.4665742', 'p_thres': '2500.0', 'IoU': '0.6881908'}\n",
      "{'IDX': '18', 'log path': './ckpt/18', 'object': 'flower', 'wrench gt': '11.408351184134528', 'wrench est': '9.982714', 'wrench error': '1.4256372', 'p_thres': '2500.0', 'IoU': '0.5492623'}\n",
      "{'IDX': '19', 'log path': './ckpt/19', 'object': 'y_shape', 'wrench gt': '9.281634017768749', 'wrench est': '9.424863', 'wrench error': '0.14322853', 'p_thres': '2500.0', 'IoU': '0.5194229'}\n",
      "{'IDX': '20', 'log path': './ckpt/20', 'object': 'half_cylinder_r20', 'wrench gt': '10.88707531545136', 'wrench est': '10.127449', 'wrench error': '0.7596264', 'p_thres': '2500.0', 'IoU': '0.59665143'}\n",
      "{'IDX': '21', 'log path': './ckpt/21', 'object': '90_curve', 'wrench gt': '9.3897276139596', 'wrench est': '6.736765', 'wrench error': '2.6529627', 'p_thres': '2500.0', 'IoU': '0.6672213'}\n",
      "{'IDX': '22', 'log path': './ckpt/22', 'object': 'o_45', 'wrench gt': '8.270019308000077', 'wrench est': '4.4041266', 'wrench error': '3.865893', 'p_thres': '2500.0', 'IoU': '0.0'}\n",
      "{'IDX': '23', 'log path': './ckpt/23', 'object': 'round_cross_r10_90deg', 'wrench gt': '7.662434537000564', 'wrench est': '5.079903', 'wrench error': '2.5825315', 'p_thres': '2500.0', 'IoU': '0.0'}\n",
      "{'IDX': '24', 'log path': './ckpt/24', 'object': 'flower', 'wrench gt': '11.002332181364146', 'wrench est': '9.572891', 'wrench error': '1.4294405', 'p_thres': '2500.0', 'IoU': '0.6236125'}\n",
      "{'IDX': '25', 'log path': './ckpt/25', 'object': 'y_shape', 'wrench gt': '9.560036678154738', 'wrench est': '8.416247', 'wrench error': '1.1437893', 'p_thres': '2500.0', 'IoU': '0.674179'}\n",
      "{'IDX': '26', 'log path': './ckpt/26', 'object': 'half_cylinder_r20', 'wrench gt': '9.187231747521134', 'wrench est': '1.2909411', 'wrench error': '7.896291', 'p_thres': '2500.0', 'IoU': '0.0'}\n",
      "{'IDX': '27', 'log path': './ckpt/27', 'object': '90_curve', 'wrench gt': '6.125650890499318', 'wrench est': '0.8385787', 'wrench error': '5.287072', 'p_thres': '2500.0', 'IoU': 'nan'}\n",
      "{'IDX': '28', 'log path': './ckpt/28', 'object': 'o_45', 'wrench gt': '8.518358847637113', 'wrench est': '9.861633', 'wrench error': '1.3432741', 'p_thres': '2500.0', 'IoU': '0.40578976'}\n",
      "{'IDX': '29', 'log path': './ckpt/29', 'object': 'round_cross_r10_90deg', 'wrench gt': '8.896571683987286', 'wrench est': '8.156308', 'wrench error': '0.74026394', 'p_thres': '2500.0', 'IoU': '0.68463075'}\n",
      "{'IDX': '40', 'log path': './ckpt/40', 'object': 'o_45', 'wrench gt': '10.657725523182574', 'wrench est': '7.8090153', 'wrench error': '2.84871', 'p_thres': '2610.65486239521', 'IoU': '0.29659212'}\n",
      "{'IDX': '41', 'log path': './ckpt/41', 'object': 'o_45', 'wrench gt': '10.500700864159151', 'wrench est': '7.344695', 'wrench error': '3.1560059', 'p_thres': '2500.0', 'IoU': '0.38651827'}\n",
      "{'IDX': '42', 'log path': './ckpt/42', 'object': 'o_45', 'wrench gt': '10.802109401580996', 'wrench est': '9.035994', 'wrench error': '1.7661161', 'p_thres': '2959.0397908873647', 'IoU': '0.42571428'}\n",
      "{'IDX': '43', 'log path': './ckpt/43', 'object': 'o_45', 'wrench gt': '10.622579702394857', 'wrench est': '7.7533216', 'wrench error': '2.869258', 'p_thres': '2500.0', 'IoU': '0.39696312'}\n",
      "{'IDX': '44', 'log path': './ckpt/44', 'object': 'o_45', 'wrench gt': '10.889540485387396', 'wrench est': '6.8231883', 'wrench error': '4.0663524', 'p_thres': '2500.0', 'IoU': '0.3898964'}\n",
      "{'IDX': '45', 'log path': './ckpt/45', 'object': 'o_45', 'wrench gt': '10.197127157552266', 'wrench est': '6.6321564', 'wrench error': '3.564971', 'p_thres': '2500.0', 'IoU': '0.3343087'}\n",
      "{'IDX': '40', 'log path': './ckpt/40', 'object': 'o_45', 'wrench gt': '10.657725523182574', 'wrench est': '7.8090153', 'wrench error': '2.84871', 'p_thres': '2500.0', 'IoU': '0.29179648'}\n",
      "{'IDX': '41', 'log path': './ckpt/41', 'object': 'o_45', 'wrench gt': '10.500700864159151', 'wrench est': '7.344695', 'wrench error': '3.1560059', 'p_thres': '2500.0', 'IoU': '0.38651827'}\n",
      "{'IDX': '42', 'log path': './ckpt/42', 'object': 'o_45', 'wrench gt': '10.802109401580996', 'wrench est': '9.035994', 'wrench error': '1.7661161', 'p_thres': '2500.0', 'IoU': '0.4172305'}\n",
      "{'IDX': '43', 'log path': './ckpt/43', 'object': 'o_45', 'wrench gt': '10.622579702394857', 'wrench est': '7.7533216', 'wrench error': '2.869258', 'p_thres': '2500.0', 'IoU': '0.39696312'}\n",
      "{'IDX': '44', 'log path': './ckpt/44', 'object': 'o_45', 'wrench gt': '10.889540485387396', 'wrench est': '6.8231883', 'wrench error': '4.0663524', 'p_thres': '2500.0', 'IoU': '0.3898964'}\n",
      "{'IDX': '45', 'log path': './ckpt/45', 'object': 'o_45', 'wrench gt': '10.197127157552266', 'wrench est': '6.6321564', 'wrench error': '3.564971', 'p_thres': '2500.0', 'IoU': '0.3343087'}\n",
      "{'IDX': '40', 'log path': './ckpt/40', 'object': 'o_45', 'wrench gt': '10.657725523182574', 'wrench est': '7.8090153', 'wrench error': '2.84871', 'p_thres': '3263.3185779940122', 'IoU': '0.32658228'}\n",
      "{'IDX': '41', 'log path': './ckpt/41', 'object': 'o_45', 'wrench gt': '10.500700864159151', 'wrench est': '7.344695', 'wrench error': '3.1560059', 'p_thres': '2785.345095698186', 'IoU': '0.39819005'}\n",
      "{'IDX': '42', 'log path': './ckpt/42', 'object': 'o_45', 'wrench gt': '10.802109401580996', 'wrench est': '9.035994', 'wrench error': '1.7661161', 'p_thres': '3698.7997386092056', 'IoU': '0.43690354'}\n",
      "{'IDX': '43', 'log path': './ckpt/43', 'object': 'o_45', 'wrench gt': '10.622579702394857', 'wrench est': '7.7533216', 'wrench error': '2.869258', 'p_thres': '3090.245483631612', 'IoU': '0.39785585'}\n",
      "{'IDX': '44', 'log path': './ckpt/44', 'object': 'o_45', 'wrench gt': '10.889540485387396', 'wrench est': '6.8231883', 'wrench error': '4.0663524', 'p_thres': '2740.1858739006407', 'IoU': '0.38368174'}\n",
      "{'IDX': '45', 'log path': './ckpt/45', 'object': 'o_45', 'wrench gt': '10.197127157552266', 'wrench est': '6.6321564', 'wrench error': '3.564971', 'p_thres': '2500.0', 'IoU': '0.3343087'}\n",
      "{'IDX': '40', 'log path': './ckpt/40', 'object': 'o_45', 'wrench gt': '10.657725523182574', 'wrench est': '7.8090153', 'wrench error': '2.84871', 'p_thres': '3915.982293592815', 'IoU': '0.35098338'}\n",
      "{'IDX': '41', 'log path': './ckpt/41', 'object': 'o_45', 'wrench gt': '10.500700864159151', 'wrench est': '7.344695', 'wrench error': '3.1560059', 'p_thres': '3342.4141148378235', 'IoU': '0.41742796'}\n",
      "{'IDX': '42', 'log path': './ckpt/42', 'object': 'o_45', 'wrench gt': '10.802109401580996', 'wrench est': '9.035994', 'wrench error': '1.7661161', 'p_thres': '4438.5596863310475', 'IoU': '0.39333335'}\n",
      "{'IDX': '43', 'log path': './ckpt/43', 'object': 'o_45', 'wrench gt': '10.622579702394857', 'wrench est': '7.7533216', 'wrench error': '2.869258', 'p_thres': '3708.2945803579346', 'IoU': '0.3933246'}\n",
      "{'IDX': '44', 'log path': './ckpt/44', 'object': 'o_45', 'wrench gt': '10.889540485387396', 'wrench est': '6.8231883', 'wrench error': '4.0663524', 'p_thres': '3288.2230486807684', 'IoU': '0.3572969'}\n",
      "{'IDX': '45', 'log path': './ckpt/45', 'object': 'o_45', 'wrench gt': '10.197127157552266', 'wrench est': '6.6321564', 'wrench error': '3.564971', 'p_thres': '2864.2512129233346', 'IoU': '0.3409449'}\n",
      "{'IDX': '40', 'log path': './ckpt/40', 'object': 'o_45', 'wrench gt': '10.657725523182574', 'wrench est': '7.8090153', 'wrench error': '2.84871', 'p_thres': '6526.6371559880245', 'IoU': '0.14464693'}\n",
      "{'IDX': '41', 'log path': './ckpt/41', 'object': 'o_45', 'wrench gt': '10.500700864159151', 'wrench est': '7.344695', 'wrench error': '3.1560059', 'p_thres': '5570.690191396372', 'IoU': '0.43311507'}\n",
      "{'IDX': '40', 'log path': './ckpt/40', 'object': 'o_45', 'wrench gt': '10.657725523182574', 'wrench est': '7.8090153', 'wrench error': '2.84871', 'p_thres': '5221.30972479042', 'IoU': '0.303207'}\n",
      "{'IDX': '41', 'log path': './ckpt/41', 'object': 'o_45', 'wrench gt': '10.500700864159151', 'wrench est': '7.344695', 'wrench error': '3.1560059', 'p_thres': '4456.552153117098', 'IoU': '0.4488449'}\n",
      "{'IDX': '42', 'log path': './ckpt/42', 'object': 'o_45', 'wrench gt': '10.802109401580996', 'wrench est': '9.035994', 'wrench error': '1.7661161', 'p_thres': '5918.079581774729', 'IoU': '0.07162285'}\n",
      "{'IDX': '43', 'log path': './ckpt/43', 'object': 'o_45', 'wrench gt': '10.622579702394857', 'wrench est': '7.7533216', 'wrench error': '2.869258', 'p_thres': '4944.3927738105795', 'IoU': '0.38061467'}\n",
      "{'IDX': '44', 'log path': './ckpt/44', 'object': 'o_45', 'wrench gt': '10.889540485387396', 'wrench est': '6.8231883', 'wrench error': '4.0663524', 'p_thres': '4384.297398241025', 'IoU': '0.2876494'}\n",
      "{'IDX': '45', 'log path': './ckpt/45', 'object': 'o_45', 'wrench gt': '10.197127157552266', 'wrench est': '6.6321564', 'wrench error': '3.564971', 'p_thres': '3819.001617231113', 'IoU': '0.3591213'}\n",
      "{'IDX': '40', 'log path': './ckpt/40', 'object': 'o_45', 'wrench gt': '10.657725523182574', 'wrench est': '7.8090153', 'wrench error': '2.84871', 'p_thres': '3263.3185779940122', 'IoU': '0.32658228'}\n",
      "{'IDX': '41', 'log path': './ckpt/41', 'object': 'o_45', 'wrench gt': '10.500700864159151', 'wrench est': '7.344695', 'wrench error': '3.1560059', 'p_thres': '2785.345095698186', 'IoU': '0.39819005'}\n",
      "{'IDX': '42', 'log path': './ckpt/42', 'object': 'o_45', 'wrench gt': '10.802109401580996', 'wrench est': '9.035994', 'wrench error': '1.7661161', 'p_thres': '3698.7997386092056', 'IoU': '0.43690354'}\n",
      "{'IDX': '43', 'log path': './ckpt/43', 'object': 'o_45', 'wrench gt': '10.622579702394857', 'wrench est': '7.7533216', 'wrench error': '2.869258', 'p_thres': '3090.245483631612', 'IoU': '0.39785585'}\n",
      "{'IDX': '44', 'log path': './ckpt/44', 'object': 'o_45', 'wrench gt': '10.889540485387396', 'wrench est': '6.8231883', 'wrench error': '4.0663524', 'p_thres': '2740.1858739006407', 'IoU': '0.38368174'}\n",
      "{'IDX': '45', 'log path': './ckpt/45', 'object': 'o_45', 'wrench gt': '10.197127157552266', 'wrench est': '6.6321564', 'wrench error': '3.564971', 'p_thres': '2500.0', 'IoU': '0.3343087'}\n",
      "{'IDX': '40', 'log path': './ckpt/40', 'object': 'o_45', 'wrench gt': '10.657725523182574', 'wrench est': '7.8090153', 'wrench error': '2.84871', 'p_thres': '3915.982293592815', 'IoU': '0.35098338'}\n",
      "{'IDX': '41', 'log path': './ckpt/41', 'object': 'o_45', 'wrench gt': '10.500700864159151', 'wrench est': '7.344695', 'wrench error': '3.1560059', 'p_thres': '3342.4141148378235', 'IoU': '0.41742796'}\n",
      "{'IDX': '42', 'log path': './ckpt/42', 'object': 'o_45', 'wrench gt': '10.802109401580996', 'wrench est': '9.035994', 'wrench error': '1.7661161', 'p_thres': '4438.5596863310475', 'IoU': '0.39333335'}\n",
      "{'IDX': '43', 'log path': './ckpt/43', 'object': 'o_45', 'wrench gt': '10.622579702394857', 'wrench est': '7.7533216', 'wrench error': '2.869258', 'p_thres': '3708.2945803579346', 'IoU': '0.3933246'}\n",
      "{'IDX': '44', 'log path': './ckpt/44', 'object': 'o_45', 'wrench gt': '10.889540485387396', 'wrench est': '6.8231883', 'wrench error': '4.0663524', 'p_thres': '3288.2230486807684', 'IoU': '0.3572969'}\n",
      "{'IDX': '45', 'log path': './ckpt/45', 'object': 'o_45', 'wrench gt': '10.197127157552266', 'wrench est': '6.6321564', 'wrench error': '3.564971', 'p_thres': '2864.2512129233346', 'IoU': '0.3409449'}\n",
      "{'IDX': '0', 'log path': './ckpt/0', 'object': 'flower', 'wrench gt': '11.429175309519762', 'wrench est': '9.729071', 'wrench error': '1.7001047', 'p_thres': '3482.0608463541084', 'IoU': '0.61982626'}\n",
      "{'IDX': '1', 'log path': './ckpt/1', 'object': 'y_shape', 'wrench gt': '8.958210604468594', 'wrench est': '10.122303', 'wrench error': '1.1640921', 'p_thres': '2848.0029931467416', 'IoU': '0.6013253'}\n",
      "{'IDX': '2', 'log path': './ckpt/2', 'object': 'half_cylinder_r20', 'wrench gt': '10.571094747017986', 'wrench est': '11.783887', 'wrench error': '1.2127924', 'p_thres': '3045.6987090649195', 'IoU': '0.5160211'}\n",
      "{'IDX': '3', 'log path': './ckpt/3', 'object': '90_curve', 'wrench gt': '8.782054342447822', 'wrench est': '7.4103003', 'wrench error': '1.3717537', 'p_thres': '2500.0', 'IoU': '0.5317073'}\n",
      "{'IDX': '4', 'log path': './ckpt/4', 'object': 'o_45', 'wrench gt': '6.783510697298957', 'wrench est': '4.347812', 'wrench error': '2.4356985', 'p_thres': '2500.0', 'IoU': '0.27065217'}\n",
      "{'IDX': '5', 'log path': './ckpt/5', 'object': 'round_cross_r10_90deg', 'wrench gt': '8.977005755221713', 'wrench est': '5.403266', 'wrench error': '3.57374', 'p_thres': '2500.0', 'IoU': '0.6148981'}\n",
      "{'IDX': '6', 'log path': './ckpt/6', 'object': 'flower', 'wrench gt': '11.465078862526164', 'wrench est': '10.607997', 'wrench error': '0.85708237', 'p_thres': '3827.6689643073787', 'IoU': '0.66137296'}\n",
      "{'IDX': '7', 'log path': './ckpt/7', 'object': 'y_shape', 'wrench gt': '8.909846596663861', 'wrench est': '8.023986', 'wrench error': '0.88586044', 'p_thres': '2500.0', 'IoU': '0.54384816'}\n",
      "{'IDX': '8', 'log path': './ckpt/8', 'object': 'half_cylinder_r20', 'wrench gt': '10.975470866479702', 'wrench est': '8.695955', 'wrench error': '2.2795153', 'p_thres': '3170.840376391118', 'IoU': '0.6422764'}\n",
      "{'IDX': '9', 'log path': './ckpt/9', 'object': '90_curve', 'wrench gt': '8.8679662441054', 'wrench est': '7.7434607', 'wrench error': '1.124506', 'p_thres': '2774.8608732569455', 'IoU': '0.7231001'}\n",
      "{'IDX': '10', 'log path': './ckpt/10', 'object': 'o_45', 'wrench gt': '9.085160971546896', 'wrench est': '9.01681', 'wrench error': '0.06835079', 'p_thres': '2867.2901401642293', 'IoU': '0.37421054'}\n",
      "{'IDX': '11', 'log path': './ckpt/11', 'object': 'round_cross_r10_90deg', 'wrench gt': '8.75737881392031', 'wrench est': '8.14665', 'wrench error': '0.61072826', 'p_thres': '2929.8453984880425', 'IoU': '0.67705536'}\n",
      "{'IDX': '12', 'log path': './ckpt/12', 'object': 'flower', 'wrench gt': '10.888639774953347', 'wrench est': '10.096331', 'wrench error': '0.7923088', 'p_thres': '3012.9332368452874', 'IoU': '0.58447003'}\n",
      "{'IDX': '13', 'log path': './ckpt/13', 'object': 'y_shape', 'wrench gt': '9.139018753107692', 'wrench est': '8.260137', 'wrench error': '0.8788824', 'p_thres': '2982.2162407650217', 'IoU': '0.47405064'}\n",
      "{'IDX': '14', 'log path': './ckpt/14', 'object': 'half_cylinder_r20', 'wrench gt': '11.347900569797709', 'wrench est': '10.087988', 'wrench error': '1.2599125', 'p_thres': '3451.3323518003244', 'IoU': '0.7798583'}\n",
      "{'IDX': '15', 'log path': './ckpt/15', 'object': '90_curve', 'wrench gt': '8.89528356249985', 'wrench est': '7.681037', 'wrench error': '1.2142467', 'p_thres': '2500.0', 'IoU': '0.46759263'}\n",
      "{'IDX': '16', 'log path': './ckpt/16', 'object': 'o_45', 'wrench gt': '8.774797976582196', 'wrench est': '10.261665', 'wrench error': '1.486867', 'p_thres': '3697.277428199437', 'IoU': '0.34260777'}\n",
      "{'IDX': '17', 'log path': './ckpt/17', 'object': 'round_cross_r10_90deg', 'wrench gt': '9.204418238604266', 'wrench est': '7.737844', 'wrench error': '1.4665742', 'p_thres': '2678.7360317436483', 'IoU': '0.68918115'}\n",
      "{'IDX': '18', 'log path': './ckpt/18', 'object': 'flower', 'wrench gt': '11.408351184134528', 'wrench est': '9.982714', 'wrench error': '1.4256372', 'p_thres': '3116.2433250055865', 'IoU': '0.54845154'}\n",
      "{'IDX': '19', 'log path': './ckpt/19', 'object': 'y_shape', 'wrench gt': '9.281634017768749', 'wrench est': '9.424863', 'wrench error': '0.14322853', 'p_thres': '2785.221480222057', 'IoU': '0.5427901'}\n",
      "{'IDX': '20', 'log path': './ckpt/20', 'object': 'half_cylinder_r20', 'wrench gt': '10.88707531545136', 'wrench est': '10.127449', 'wrench error': '0.7596264', 'p_thres': '3390.040510689055', 'IoU': '0.6501788'}\n",
      "{'IDX': '21', 'log path': './ckpt/21', 'object': '90_curve', 'wrench gt': '9.3897276139596', 'wrench est': '6.736765', 'wrench error': '2.6529627', 'p_thres': '2500.0', 'IoU': '0.6672213'}\n",
      "{'IDX': '22', 'log path': './ckpt/22', 'object': 'o_45', 'wrench gt': '8.270019308000077', 'wrench est': '4.4041266', 'wrench error': '3.865893', 'p_thres': '2500.0', 'IoU': '0.0'}\n",
      "{'IDX': '23', 'log path': './ckpt/23', 'object': 'round_cross_r10_90deg', 'wrench gt': '7.662434537000564', 'wrench est': '5.079903', 'wrench error': '2.5825315', 'p_thres': '2500.0', 'IoU': '0.0'}\n",
      "{'IDX': '24', 'log path': './ckpt/24', 'object': 'flower', 'wrench gt': '11.002332181364146', 'wrench est': '9.572891', 'wrench error': '1.4294405', 'p_thres': '3009.8244864700628', 'IoU': '0.63266385'}\n",
      "{'IDX': '25', 'log path': './ckpt/25', 'object': 'y_shape', 'wrench gt': '9.560036678154738', 'wrench est': '8.416247', 'wrench error': '1.1437893', 'p_thres': '2668.7445734353005', 'IoU': '0.69778377'}\n",
      "{'IDX': '26', 'log path': './ckpt/26', 'object': 'half_cylinder_r20', 'wrench gt': '9.187231747521134', 'wrench est': '1.2909411', 'wrench error': '7.896291', 'p_thres': '2500.0', 'IoU': '0.0'}\n",
      "{'IDX': '27', 'log path': './ckpt/27', 'object': '90_curve', 'wrench gt': '6.125650890499318', 'wrench est': '0.8385787', 'wrench error': '5.287072', 'p_thres': '2500.0', 'IoU': 'nan'}\n",
      "{'IDX': '28', 'log path': './ckpt/28', 'object': 'o_45', 'wrench gt': '8.518358847637113', 'wrench est': '9.861633', 'wrench error': '1.3432741', 'p_thres': '2807.636729251431', 'IoU': '0.3888309'}\n",
      "{'IDX': '29', 'log path': './ckpt/29', 'object': 'round_cross_r10_90deg', 'wrench gt': '8.896571683987286', 'wrench est': '8.156308', 'wrench error': '0.74026394', 'p_thres': '2531.104461473587', 'IoU': '0.6828414'}\n",
      "{'IDX': '40', 'log path': './ckpt/40', 'object': 'o_45', 'wrench gt': '10.657725523182574', 'wrench est': '7.8090153', 'wrench error': '2.84871', 'p_thres': '2610.65486239521', 'IoU': '0.29659212'}\n",
      "{'IDX': '41', 'log path': './ckpt/41', 'object': 'o_45', 'wrench gt': '10.500700864159151', 'wrench est': '7.344695', 'wrench error': '3.1560059', 'p_thres': '2500.0', 'IoU': '0.38651827'}\n",
      "{'IDX': '42', 'log path': './ckpt/42', 'object': 'o_45', 'wrench gt': '10.802109401580996', 'wrench est': '9.035994', 'wrench error': '1.7661161', 'p_thres': '2959.0397908873647', 'IoU': '0.42571428'}\n",
      "{'IDX': '43', 'log path': './ckpt/43', 'object': 'o_45', 'wrench gt': '10.622579702394857', 'wrench est': '7.7533216', 'wrench error': '2.869258', 'p_thres': '2500.0', 'IoU': '0.39696312'}\n",
      "{'IDX': '44', 'log path': './ckpt/44', 'object': 'o_45', 'wrench gt': '10.889540485387396', 'wrench est': '6.8231883', 'wrench error': '4.0663524', 'p_thres': '2500.0', 'IoU': '0.3898964'}\n",
      "{'IDX': '45', 'log path': './ckpt/45', 'object': 'o_45', 'wrench gt': '10.197127157552266', 'wrench est': '6.6321564', 'wrench error': '3.564971', 'p_thres': '2500.0', 'IoU': '0.3343087'}\n",
      "{'IDX': '40', 'log path': './ckpt/40', 'object': 'o_45', 'wrench gt': '8.74078062849292', 'wrench est': '7.8090153', 'wrench error': '0.93176556', 'p_thres': '2610.65486239521', 'IoU': '0.31830677'}\n",
      "{'IDX': '41', 'log path': './ckpt/41', 'object': 'round_cross_r10_90deg', 'wrench gt': '7.951387017909622', 'wrench est': '7.344695', 'wrench error': '0.60669184', 'p_thres': '2500.0', 'IoU': '0.0'}\n",
      "{'IDX': '42', 'log path': './ckpt/42', 'object': 'flower', 'wrench gt': '10.851995778343632', 'wrench est': '9.035994', 'wrench error': '1.8160019', 'p_thres': '2959.0397908873647', 'IoU': '0.6176084'}\n",
      "{'IDX': '43', 'log path': './ckpt/43', 'object': 'y_shape', 'wrench gt': '8.92044803968087', 'wrench est': '7.7533216', 'wrench error': '1.1671267', 'p_thres': '2500.0', 'IoU': '0.29884455'}\n",
      "{'IDX': '44', 'log path': './ckpt/44', 'object': 'half_cylinder_r20', 'wrench gt': '10.762413570569967', 'wrench est': '6.8231883', 'wrench error': '3.9392257', 'p_thres': '2500.0', 'IoU': '0.4450025'}\n",
      "{'IDX': '45', 'log path': './ckpt/45', 'object': '90_curve', 'wrench gt': '7.741412037325601', 'wrench est': '6.6321564', 'wrench error': '1.1092558', 'p_thres': '2500.0', 'IoU': '0.0'}\n",
      "{'IDX': '40', 'log path': './ckpt/40', 'object': 'o_45', 'wrench gt': '8.74078062849292', 'wrench est': '7.8090153', 'wrench error': '0.93176556', 'p_thres': '2610.65486239521', 'IoU': '0.31830677'}\n",
      "{'IDX': '41', 'log path': './ckpt/41', 'object': 'round_cross_r10_90deg', 'wrench gt': '7.951387017909622', 'wrench est': '7.344695', 'wrench error': '0.60669184', 'p_thres': '2500.0', 'IoU': '0.0'}\n",
      "{'IDX': '40', 'log path': './ckpt/40', 'object': 'o_45', 'wrench gt': '8.74078062849292', 'wrench est': '7.8090153', 'wrench error': '0.93176556', 'p_thres': '2610.65486239521', 'IoU': '0.31830677'}\n",
      "{'IDX': '41', 'log path': './ckpt/41', 'object': 'round_cross_r10_90deg', 'wrench gt': '7.951387017909622', 'wrench est': '7.344695', 'wrench error': '0.60669184', 'p_thres': '2500.0', 'IoU': '0.0'}\n",
      "{'IDX': '42', 'log path': './ckpt/42', 'object': 'flower', 'wrench gt': '10.851995778343632', 'wrench est': '9.035994', 'wrench error': '1.8160019', 'p_thres': '2959.0397908873647', 'IoU': '0.6176084'}\n",
      "{'IDX': '43', 'log path': './ckpt/43', 'object': 'y_shape', 'wrench gt': '8.92044803968087', 'wrench est': '7.7533216', 'wrench error': '1.1671267', 'p_thres': '2500.0', 'IoU': '0.29884455'}\n",
      "{'IDX': '44', 'log path': './ckpt/44', 'object': 'half_cylinder_r20', 'wrench gt': '10.762413570569967', 'wrench est': '6.8231883', 'wrench error': '3.9392257', 'p_thres': '2500.0', 'IoU': '0.4450025'}\n",
      "{'IDX': '45', 'log path': './ckpt/45', 'object': '90_curve', 'wrench gt': '7.741412037325601', 'wrench est': '6.6321564', 'wrench error': '1.1092558', 'p_thres': '2500.0', 'IoU': '0.0'}\n",
      "{'IDX': '34', 'log path': './ckpt/34', 'object': 'o_45', 'wrench gt': '8.2205455077005', 'wrench est': '6.689882', 'wrench error': '1.530664', 'p_thres': '2500.0', 'IoU': '0.28809047'}\n",
      "{'IDX': '0', 'log path': './ckpt/0', 'object': 'flower', 'wrench gt': '11.429175309519762', 'wrench est': '9.729071', 'wrench error': '1.7001047', 'p_thres': '3482.0608463541084', 'IoU': '0.61982626'}\n",
      "{'IDX': '1', 'log path': './ckpt/1', 'object': 'y_shape', 'wrench gt': '8.958210604468594', 'wrench est': '10.122303', 'wrench error': '1.1640921', 'p_thres': '2848.0029931467416', 'IoU': '0.6013253'}\n",
      "{'IDX': '2', 'log path': './ckpt/2', 'object': 'half_cylinder_r20', 'wrench gt': '10.571094747017986', 'wrench est': '11.783887', 'wrench error': '1.2127924', 'p_thres': '3045.6987090649195', 'IoU': '0.5160211'}\n",
      "{'IDX': '3', 'log path': './ckpt/3', 'object': '90_curve', 'wrench gt': '8.782054342447822', 'wrench est': '7.4103003', 'wrench error': '1.3717537', 'p_thres': '2500.0', 'IoU': '0.5317073'}\n",
      "{'IDX': '4', 'log path': './ckpt/4', 'object': 'o_45', 'wrench gt': '6.783510697298957', 'wrench est': '4.347812', 'wrench error': '2.4356985', 'p_thres': '2500.0', 'IoU': '0.27065217'}\n",
      "{'IDX': '5', 'log path': './ckpt/5', 'object': 'round_cross_r10_90deg', 'wrench gt': '8.977005755221713', 'wrench est': '5.403266', 'wrench error': '3.57374', 'p_thres': '2500.0', 'IoU': '0.6148981'}\n",
      "{'IDX': '6', 'log path': './ckpt/6', 'object': 'flower', 'wrench gt': '11.465078862526164', 'wrench est': '10.607997', 'wrench error': '0.85708237', 'p_thres': '3827.6689643073787', 'IoU': '0.66137296'}\n",
      "{'IDX': '7', 'log path': './ckpt/7', 'object': 'y_shape', 'wrench gt': '8.909846596663861', 'wrench est': '8.023986', 'wrench error': '0.88586044', 'p_thres': '2500.0', 'IoU': '0.54384816'}\n",
      "{'IDX': '8', 'log path': './ckpt/8', 'object': 'half_cylinder_r20', 'wrench gt': '10.975470866479702', 'wrench est': '8.695955', 'wrench error': '2.2795153', 'p_thres': '3170.840376391118', 'IoU': '0.6422764'}\n",
      "{'IDX': '9', 'log path': './ckpt/9', 'object': '90_curve', 'wrench gt': '8.8679662441054', 'wrench est': '7.7434607', 'wrench error': '1.124506', 'p_thres': '2774.8608732569455', 'IoU': '0.7231001'}\n",
      "{'IDX': '10', 'log path': './ckpt/10', 'object': 'o_45', 'wrench gt': '9.085160971546896', 'wrench est': '9.01681', 'wrench error': '0.06835079', 'p_thres': '2867.2901401642293', 'IoU': '0.37421054'}\n",
      "{'IDX': '11', 'log path': './ckpt/11', 'object': 'round_cross_r10_90deg', 'wrench gt': '8.75737881392031', 'wrench est': '8.14665', 'wrench error': '0.61072826', 'p_thres': '2929.8453984880425', 'IoU': '0.67705536'}\n",
      "{'IDX': '12', 'log path': './ckpt/12', 'object': 'flower', 'wrench gt': '10.888639774953347', 'wrench est': '10.096331', 'wrench error': '0.7923088', 'p_thres': '3012.9332368452874', 'IoU': '0.58447003'}\n",
      "{'IDX': '13', 'log path': './ckpt/13', 'object': 'y_shape', 'wrench gt': '9.139018753107692', 'wrench est': '8.260137', 'wrench error': '0.8788824', 'p_thres': '2982.2162407650217', 'IoU': '0.47405064'}\n",
      "{'IDX': '14', 'log path': './ckpt/14', 'object': 'half_cylinder_r20', 'wrench gt': '11.347900569797709', 'wrench est': '10.087988', 'wrench error': '1.2599125', 'p_thres': '3451.3323518003244', 'IoU': '0.7798583'}\n",
      "{'IDX': '15', 'log path': './ckpt/15', 'object': '90_curve', 'wrench gt': '8.89528356249985', 'wrench est': '7.681037', 'wrench error': '1.2142467', 'p_thres': '2500.0', 'IoU': '0.46759263'}\n",
      "{'IDX': '16', 'log path': './ckpt/16', 'object': 'o_45', 'wrench gt': '8.774797976582196', 'wrench est': '10.261665', 'wrench error': '1.486867', 'p_thres': '3697.277428199437', 'IoU': '0.34260777'}\n",
      "{'IDX': '17', 'log path': './ckpt/17', 'object': 'round_cross_r10_90deg', 'wrench gt': '9.204418238604266', 'wrench est': '7.737844', 'wrench error': '1.4665742', 'p_thres': '2678.7360317436483', 'IoU': '0.68918115'}\n",
      "{'IDX': '18', 'log path': './ckpt/18', 'object': 'flower', 'wrench gt': '11.408351184134528', 'wrench est': '9.982714', 'wrench error': '1.4256372', 'p_thres': '3116.2433250055865', 'IoU': '0.54845154'}\n",
      "{'IDX': '19', 'log path': './ckpt/19', 'object': 'y_shape', 'wrench gt': '9.281634017768749', 'wrench est': '9.424863', 'wrench error': '0.14322853', 'p_thres': '2785.221480222057', 'IoU': '0.5427901'}\n",
      "{'IDX': '20', 'log path': './ckpt/20', 'object': 'half_cylinder_r20', 'wrench gt': '10.88707531545136', 'wrench est': '10.127449', 'wrench error': '0.7596264', 'p_thres': '3390.040510689055', 'IoU': '0.6501788'}\n",
      "{'IDX': '21', 'log path': './ckpt/21', 'object': '90_curve', 'wrench gt': '9.3897276139596', 'wrench est': '6.736765', 'wrench error': '2.6529627', 'p_thres': '2500.0', 'IoU': '0.6672213'}\n",
      "{'IDX': '22', 'log path': './ckpt/22', 'object': 'o_45', 'wrench gt': '8.270019308000077', 'wrench est': '4.4041266', 'wrench error': '3.865893', 'p_thres': '2500.0', 'IoU': '0.0'}\n",
      "{'IDX': '23', 'log path': './ckpt/23', 'object': 'round_cross_r10_90deg', 'wrench gt': '7.662434537000564', 'wrench est': '5.079903', 'wrench error': '2.5825315', 'p_thres': '2500.0', 'IoU': '0.0'}\n",
      "{'IDX': '24', 'log path': './ckpt/24', 'object': 'flower', 'wrench gt': '11.002332181364146', 'wrench est': '9.572891', 'wrench error': '1.4294405', 'p_thres': '3009.8244864700628', 'IoU': '0.63266385'}\n",
      "{'IDX': '25', 'log path': './ckpt/25', 'object': 'y_shape', 'wrench gt': '9.560036678154738', 'wrench est': '8.416247', 'wrench error': '1.1437893', 'p_thres': '2668.7445734353005', 'IoU': '0.69778377'}\n",
      "{'IDX': '26', 'log path': './ckpt/26', 'object': 'half_cylinder_r20', 'wrench gt': '9.187231747521134', 'wrench est': '1.2909411', 'wrench error': '7.896291', 'p_thres': '2500.0', 'IoU': '0.0'}\n",
      "{'IDX': '27', 'log path': './ckpt/27', 'object': '90_curve', 'wrench gt': '6.125650890499318', 'wrench est': '0.8385787', 'wrench error': '5.287072', 'p_thres': '2500.0', 'IoU': 'nan'}\n",
      "{'IDX': '28', 'log path': './ckpt/28', 'object': 'o_45', 'wrench gt': '8.518358847637113', 'wrench est': '9.861633', 'wrench error': '1.3432741', 'p_thres': '2807.636729251431', 'IoU': '0.3888309'}\n",
      "{'IDX': '29', 'log path': './ckpt/29', 'object': 'round_cross_r10_90deg', 'wrench gt': '8.896571683987286', 'wrench est': '8.156308', 'wrench error': '0.74026394', 'p_thres': '2531.104461473587', 'IoU': '0.6828414'}\n",
      "{'IDX': '34', 'log path': './ckpt/34', 'object': 'o_45', 'wrench gt': '10.913293166345511', 'wrench est': '6.689882', 'wrench error': '4.223411', 'p_thres': '2500.0', 'IoU': '0.24931055'}\n",
      "{'IDX': '34', 'log path': './ckpt/34', 'object': 'o_45', 'wrench gt': '10.913293166345511', 'wrench est': '6.689882', 'wrench error': '4.223411', 'p_thres': '2500.0', 'IoU': '0.24931055'}\n",
      "{'IDX': '40', 'log path': './ckpt/40', 'object': 'o_45', 'wrench gt': '10.657725523182574', 'wrench est': '7.8090153', 'wrench error': '2.84871', 'p_thres': '2610.65486239521', 'IoU': '0.29659212'}\n",
      "{'IDX': '41', 'log path': './ckpt/41', 'object': 'o_45', 'wrench gt': '10.500700864159151', 'wrench est': '7.344695', 'wrench error': '3.1560059', 'p_thres': '2500.0', 'IoU': '0.38651827'}\n",
      "{'IDX': '42', 'log path': './ckpt/42', 'object': 'o_45', 'wrench gt': '10.802109401580996', 'wrench est': '9.035994', 'wrench error': '1.7661161', 'p_thres': '2959.0397908873647', 'IoU': '0.42571428'}\n",
      "{'IDX': '43', 'log path': './ckpt/43', 'object': 'o_45', 'wrench gt': '10.622579702394857', 'wrench est': '7.7533216', 'wrench error': '2.869258', 'p_thres': '2500.0', 'IoU': '0.39696312'}\n",
      "{'IDX': '44', 'log path': './ckpt/44', 'object': 'o_45', 'wrench gt': '10.889540485387396', 'wrench est': '6.8231883', 'wrench error': '4.0663524', 'p_thres': '2500.0', 'IoU': '0.3898964'}\n",
      "{'IDX': '45', 'log path': './ckpt/45', 'object': 'o_45', 'wrench gt': '10.197127157552266', 'wrench est': '6.6321564', 'wrench error': '3.564971', 'p_thres': '2500.0', 'IoU': '0.3343087'}\n",
      "{'IDX': '0', 'log path': './ckpt/0', 'object': 'flower', 'wrench gt': '11.429175309519762', 'wrench est': '9.729071', 'wrench error': '1.7001047', 'p_thres': '3482.0608463541084', 'IoU': '0.61982626'}\n",
      "{'IDX': '1', 'log path': './ckpt/1', 'object': 'y_shape', 'wrench gt': '8.958210604468594', 'wrench est': '10.122303', 'wrench error': '1.1640921', 'p_thres': '2848.0029931467416', 'IoU': '0.6013253'}\n",
      "{'IDX': '2', 'log path': './ckpt/2', 'object': 'half_cylinder_r20', 'wrench gt': '10.571094747017986', 'wrench est': '11.783887', 'wrench error': '1.2127924', 'p_thres': '3045.6987090649195', 'IoU': '0.5160211'}\n",
      "{'IDX': '3', 'log path': './ckpt/3', 'object': '90_curve', 'wrench gt': '8.782054342447822', 'wrench est': '7.4103003', 'wrench error': '1.3717537', 'p_thres': '2500.0', 'IoU': '0.5317073'}\n",
      "{'IDX': '4', 'log path': './ckpt/4', 'object': 'o_45', 'wrench gt': '6.783510697298957', 'wrench est': '4.347812', 'wrench error': '2.4356985', 'p_thres': '2500.0', 'IoU': '0.27065217'}\n",
      "{'IDX': '5', 'log path': './ckpt/5', 'object': 'round_cross_r10_90deg', 'wrench gt': '8.977005755221713', 'wrench est': '5.403266', 'wrench error': '3.57374', 'p_thres': '2500.0', 'IoU': '0.6148981'}\n",
      "{'IDX': '6', 'log path': './ckpt/6', 'object': 'flower', 'wrench gt': '11.465078862526164', 'wrench est': '10.607997', 'wrench error': '0.85708237', 'p_thres': '3827.6689643073787', 'IoU': '0.66137296'}\n",
      "{'IDX': '7', 'log path': './ckpt/7', 'object': 'y_shape', 'wrench gt': '8.909846596663861', 'wrench est': '8.023986', 'wrench error': '0.88586044', 'p_thres': '2500.0', 'IoU': '0.54384816'}\n",
      "{'IDX': '8', 'log path': './ckpt/8', 'object': 'half_cylinder_r20', 'wrench gt': '10.975470866479702', 'wrench est': '8.695955', 'wrench error': '2.2795153', 'p_thres': '3170.840376391118', 'IoU': '0.6422764'}\n",
      "{'IDX': '9', 'log path': './ckpt/9', 'object': '90_curve', 'wrench gt': '8.8679662441054', 'wrench est': '7.7434607', 'wrench error': '1.124506', 'p_thres': '2774.8608732569455', 'IoU': '0.7231001'}\n",
      "{'IDX': '10', 'log path': './ckpt/10', 'object': 'o_45', 'wrench gt': '9.085160971546896', 'wrench est': '9.01681', 'wrench error': '0.06835079', 'p_thres': '2867.2901401642293', 'IoU': '0.37421054'}\n",
      "{'IDX': '11', 'log path': './ckpt/11', 'object': 'round_cross_r10_90deg', 'wrench gt': '8.75737881392031', 'wrench est': '8.14665', 'wrench error': '0.61072826', 'p_thres': '2929.8453984880425', 'IoU': '0.67705536'}\n",
      "{'IDX': '12', 'log path': './ckpt/12', 'object': 'flower', 'wrench gt': '10.888639774953347', 'wrench est': '10.096331', 'wrench error': '0.7923088', 'p_thres': '3012.9332368452874', 'IoU': '0.58447003'}\n",
      "{'IDX': '13', 'log path': './ckpt/13', 'object': 'y_shape', 'wrench gt': '9.139018753107692', 'wrench est': '8.260137', 'wrench error': '0.8788824', 'p_thres': '2982.2162407650217', 'IoU': '0.47405064'}\n",
      "{'IDX': '14', 'log path': './ckpt/14', 'object': 'half_cylinder_r20', 'wrench gt': '11.347900569797709', 'wrench est': '10.087988', 'wrench error': '1.2599125', 'p_thres': '3451.3323518003244', 'IoU': '0.7798583'}\n",
      "{'IDX': '15', 'log path': './ckpt/15', 'object': '90_curve', 'wrench gt': '8.89528356249985', 'wrench est': '7.681037', 'wrench error': '1.2142467', 'p_thres': '2500.0', 'IoU': '0.46759263'}\n",
      "{'IDX': '16', 'log path': './ckpt/16', 'object': 'o_45', 'wrench gt': '8.774797976582196', 'wrench est': '10.261665', 'wrench error': '1.486867', 'p_thres': '3697.277428199437', 'IoU': '0.34260777'}\n",
      "{'IDX': '17', 'log path': './ckpt/17', 'object': 'round_cross_r10_90deg', 'wrench gt': '9.204418238604266', 'wrench est': '7.737844', 'wrench error': '1.4665742', 'p_thres': '2678.7360317436483', 'IoU': '0.68918115'}\n",
      "{'IDX': '18', 'log path': './ckpt/18', 'object': 'flower', 'wrench gt': '11.408351184134528', 'wrench est': '9.982714', 'wrench error': '1.4256372', 'p_thres': '3116.2433250055865', 'IoU': '0.54845154'}\n",
      "{'IDX': '19', 'log path': './ckpt/19', 'object': 'y_shape', 'wrench gt': '9.281634017768749', 'wrench est': '9.424863', 'wrench error': '0.14322853', 'p_thres': '2785.221480222057', 'IoU': '0.5427901'}\n",
      "{'IDX': '20', 'log path': './ckpt/20', 'object': 'half_cylinder_r20', 'wrench gt': '10.88707531545136', 'wrench est': '10.127449', 'wrench error': '0.7596264', 'p_thres': '3390.040510689055', 'IoU': '0.6501788'}\n",
      "{'IDX': '21', 'log path': './ckpt/21', 'object': '90_curve', 'wrench gt': '9.3897276139596', 'wrench est': '6.736765', 'wrench error': '2.6529627', 'p_thres': '2500.0', 'IoU': '0.6672213'}\n",
      "{'IDX': '22', 'log path': './ckpt/22', 'object': 'o_45', 'wrench gt': '8.270019308000077', 'wrench est': '4.4041266', 'wrench error': '3.865893', 'p_thres': '2500.0', 'IoU': '0.0'}\n",
      "{'IDX': '23', 'log path': './ckpt/23', 'object': 'round_cross_r10_90deg', 'wrench gt': '7.662434537000564', 'wrench est': '5.079903', 'wrench error': '2.5825315', 'p_thres': '2500.0', 'IoU': '0.0'}\n",
      "{'IDX': '24', 'log path': './ckpt/24', 'object': 'flower', 'wrench gt': '11.002332181364146', 'wrench est': '9.572891', 'wrench error': '1.4294405', 'p_thres': '3009.8244864700628', 'IoU': '0.63266385'}\n",
      "{'IDX': '25', 'log path': './ckpt/25', 'object': 'y_shape', 'wrench gt': '9.560036678154738', 'wrench est': '8.416247', 'wrench error': '1.1437893', 'p_thres': '2668.7445734353005', 'IoU': '0.69778377'}\n",
      "{'IDX': '26', 'log path': './ckpt/26', 'object': 'half_cylinder_r20', 'wrench gt': '9.187231747521134', 'wrench est': '1.2909411', 'wrench error': '7.896291', 'p_thres': '2500.0', 'IoU': '0.0'}\n",
      "{'IDX': '27', 'log path': './ckpt/27', 'object': '90_curve', 'wrench gt': '6.125650890499318', 'wrench est': '0.8385787', 'wrench error': '5.287072', 'p_thres': '2500.0', 'IoU': 'nan'}\n",
      "{'IDX': '28', 'log path': './ckpt/28', 'object': 'o_45', 'wrench gt': '8.518358847637113', 'wrench est': '9.861633', 'wrench error': '1.3432741', 'p_thres': '2807.636729251431', 'IoU': '0.3888309'}\n",
      "{'IDX': '29', 'log path': './ckpt/29', 'object': 'round_cross_r10_90deg', 'wrench gt': '8.896571683987286', 'wrench est': '8.156308', 'wrench error': '0.74026394', 'p_thres': '2531.104461473587', 'IoU': '0.6828414'}\n",
      "{'IDX': '53', 'log path': './ckpt/53', 'object': 'round_cross_r10_90deg', 'wrench gt': '9.107072211180927', 'wrench est': '7.1287127', 'wrench error': '1.9783592', 'p_thres': '2500.0', 'IoU': '0.6700699'}\n",
      "{'IDX': '53', 'log path': './ckpt/53', 'object': 'round_cross_r10_90deg', 'wrench gt': '9.107072211180927', 'wrench est': '7.1287127', 'wrench error': '1.9783592', 'p_thres': '2500.0', 'IoU': '0.6700699'}\n",
      "Processing the data and saving it to /home/young/Research/jaxpi/examples/membrane_real_v3/data/bubble_v2_tactile_shadowing_data/processed_data/bubble_calibration_dataset\n"
     ]
    },
    {
     "name": "stderr",
     "output_type": "stream",
     "text": [
      "100%|██████████████████████████████████████████████████████████████████████████████████████████████████████████████████████████████████████████████████████████████| 60/60 [00:24<00:00,  2.43it/s]\n"
     ]
    },
    {
     "name": "stdout",
     "output_type": "stream",
     "text": [
      "Data processed\n",
      "Warning: 20000 points required, but 31385 points sampled.\n"
     ]
    },
    {
     "name": "stderr",
     "output_type": "stream",
     "text": [
      "WARNING:absl:The transformations API will eventually be replaced by an upgraded design. The current API will not be removed until this point, but it will no longer be actively worked on.\n"
     ]
    },
    {
     "name": "stdout",
     "output_type": "stream",
     "text": [
      "Restore checkpoint  ./ckpt/0 at step  30000\n",
      "1589 1581 1213\n",
      "Processing the data and saving it to /home/young/Research/jaxpi/examples/membrane_real_v3/data/bubble_v2_tactile_shadowing_data/processed_data/bubble_calibration_dataset\n"
     ]
    },
    {
     "name": "stderr",
     "output_type": "stream",
     "text": [
      "100%|██████████████████████████████████████████████████████████████████████████████████████████████████████████████████████████████████████████████████████████████| 60/60 [00:24<00:00,  2.45it/s]\n"
     ]
    },
    {
     "name": "stdout",
     "output_type": "stream",
     "text": [
      "Data processed\n",
      "Warning: 20000 points required, but 31385 points sampled.\n"
     ]
    },
    {
     "name": "stderr",
     "output_type": "stream",
     "text": [
      "WARNING:absl:The transformations API will eventually be replaced by an upgraded design. The current API will not be removed until this point, but it will no longer be actively worked on.\n"
     ]
    },
    {
     "name": "stdout",
     "output_type": "stream",
     "text": [
      "Restore checkpoint  ./ckpt/1 at step  30000\n",
      "1132 1768 1089\n",
      "Processing the data and saving it to /home/young/Research/jaxpi/examples/membrane_real_v3/data/bubble_v2_tactile_shadowing_data/processed_data/bubble_calibration_dataset\n"
     ]
    },
    {
     "name": "stderr",
     "output_type": "stream",
     "text": [
      "100%|██████████████████████████████████████████████████████████████████████████████████████████████████████████████████████████████████████████████████████████████| 60/60 [00:24<00:00,  2.42it/s]\n"
     ]
    },
    {
     "name": "stdout",
     "output_type": "stream",
     "text": [
      "Data processed\n",
      "Warning: 20000 points required, but 31385 points sampled.\n"
     ]
    },
    {
     "name": "stderr",
     "output_type": "stream",
     "text": [
      "WARNING:absl:The transformations API will eventually be replaced by an upgraded design. The current API will not be removed until this point, but it will no longer be actively worked on.\n"
     ]
    },
    {
     "name": "stdout",
     "output_type": "stream",
     "text": [
      "Restore checkpoint  ./ckpt/2 at step  30000\n",
      "1417 1753 1079\n",
      "Processing the data and saving it to /home/young/Research/jaxpi/examples/membrane_real_v3/data/bubble_v2_tactile_shadowing_data/processed_data/bubble_calibration_dataset\n"
     ]
    },
    {
     "name": "stderr",
     "output_type": "stream",
     "text": [
      "100%|██████████████████████████████████████████████████████████████████████████████████████████████████████████████████████████████████████████████████████████████| 60/60 [00:24<00:00,  2.44it/s]\n"
     ]
    },
    {
     "name": "stdout",
     "output_type": "stream",
     "text": [
      "Data processed\n",
      "Warning: 20000 points required, but 31385 points sampled.\n"
     ]
    },
    {
     "name": "stderr",
     "output_type": "stream",
     "text": [
      "WARNING:absl:The transformations API will eventually be replaced by an upgraded design. The current API will not be removed until this point, but it will no longer be actively worked on.\n"
     ]
    },
    {
     "name": "stdout",
     "output_type": "stream",
     "text": [
      "Restore checkpoint  ./ckpt/3 at step  30000\n",
      "903 1295 763\n",
      "Processing the data and saving it to /home/young/Research/jaxpi/examples/membrane_real_v3/data/bubble_v2_tactile_shadowing_data/processed_data/bubble_calibration_dataset\n"
     ]
    },
    {
     "name": "stderr",
     "output_type": "stream",
     "text": [
      "100%|██████████████████████████████████████████████████████████████████████████████████████████████████████████████████████████████████████████████████████████████| 60/60 [00:24<00:00,  2.42it/s]\n"
     ]
    },
    {
     "name": "stdout",
     "output_type": "stream",
     "text": [
      "Data processed\n",
      "Warning: 20000 points required, but 31385 points sampled.\n"
     ]
    },
    {
     "name": "stderr",
     "output_type": "stream",
     "text": [
      "WARNING:absl:The transformations API will eventually be replaced by an upgraded design. The current API will not be removed until this point, but it will no longer be actively worked on.\n"
     ]
    },
    {
     "name": "stdout",
     "output_type": "stream",
     "text": [
      "Restore checkpoint  ./ckpt/4 at step  30000\n",
      "637 532 249\n",
      "Processing the data and saving it to /home/young/Research/jaxpi/examples/membrane_real_v3/data/bubble_v2_tactile_shadowing_data/processed_data/bubble_calibration_dataset\n"
     ]
    },
    {
     "name": "stderr",
     "output_type": "stream",
     "text": [
      "100%|██████████████████████████████████████████████████████████████████████████████████████████████████████████████████████████████████████████████████████████████| 60/60 [00:24<00:00,  2.42it/s]\n"
     ]
    },
    {
     "name": "stdout",
     "output_type": "stream",
     "text": [
      "Data processed\n",
      "Warning: 20000 points required, but 31385 points sampled.\n"
     ]
    },
    {
     "name": "stderr",
     "output_type": "stream",
     "text": [
      "WARNING:absl:The transformations API will eventually be replaced by an upgraded design. The current API will not be removed until this point, but it will no longer be actively worked on.\n"
     ]
    },
    {
     "name": "stdout",
     "output_type": "stream",
     "text": [
      "Restore checkpoint  ./ckpt/5 at step  30000\n",
      "1255 1043 875\n",
      "Processing the data and saving it to /home/young/Research/jaxpi/examples/membrane_real_v3/data/bubble_v2_tactile_shadowing_data/processed_data/bubble_calibration_dataset\n"
     ]
    },
    {
     "name": "stderr",
     "output_type": "stream",
     "text": [
      "100%|██████████████████████████████████████████████████████████████████████████████████████████████████████████████████████████████████████████████████████████████| 60/60 [00:24<00:00,  2.42it/s]\n"
     ]
    },
    {
     "name": "stdout",
     "output_type": "stream",
     "text": [
      "Data processed\n",
      "Warning: 20000 points required, but 31385 points sampled.\n"
     ]
    },
    {
     "name": "stderr",
     "output_type": "stream",
     "text": [
      "WARNING:absl:The transformations API will eventually be replaced by an upgraded design. The current API will not be removed until this point, but it will no longer be actively worked on.\n"
     ]
    },
    {
     "name": "stdout",
     "output_type": "stream",
     "text": [
      "Restore checkpoint  ./ckpt/6 at step  30000\n",
      "1649 1594 1291\n",
      "Processing the data and saving it to /home/young/Research/jaxpi/examples/membrane_real_v3/data/bubble_v2_tactile_shadowing_data/processed_data/bubble_calibration_dataset\n"
     ]
    },
    {
     "name": "stderr",
     "output_type": "stream",
     "text": [
      "100%|██████████████████████████████████████████████████████████████████████████████████████████████████████████████████████████████████████████████████████████████| 60/60 [00:24<00:00,  2.45it/s]\n"
     ]
    },
    {
     "name": "stdout",
     "output_type": "stream",
     "text": [
      "Data processed\n",
      "Warning: 20000 points required, but 31385 points sampled.\n"
     ]
    },
    {
     "name": "stderr",
     "output_type": "stream",
     "text": [
      "WARNING:absl:The transformations API will eventually be replaced by an upgraded design. The current API will not be removed until this point, but it will no longer be actively worked on.\n"
     ]
    },
    {
     "name": "stdout",
     "output_type": "stream",
     "text": [
      "Restore checkpoint  ./ckpt/7 at step  30000\n",
      "879 1480 831\n",
      "Processing the data and saving it to /home/young/Research/jaxpi/examples/membrane_real_v3/data/bubble_v2_tactile_shadowing_data/processed_data/bubble_calibration_dataset\n"
     ]
    },
    {
     "name": "stderr",
     "output_type": "stream",
     "text": [
      "100%|██████████████████████████████████████████████████████████████████████████████████████████████████████████████████████████████████████████████████████████████| 60/60 [00:24<00:00,  2.42it/s]\n"
     ]
    },
    {
     "name": "stdout",
     "output_type": "stream",
     "text": [
      "Data processed\n",
      "Warning: 20000 points required, but 31385 points sampled.\n"
     ]
    },
    {
     "name": "stderr",
     "output_type": "stream",
     "text": [
      "WARNING:absl:The transformations API will eventually be replaced by an upgraded design. The current API will not be removed until this point, but it will no longer be actively worked on.\n"
     ]
    },
    {
     "name": "stdout",
     "output_type": "stream",
     "text": [
      "Restore checkpoint  ./ckpt/8 at step  30000\n",
      "1522 1306 1106\n",
      "Processing the data and saving it to /home/young/Research/jaxpi/examples/membrane_real_v3/data/bubble_v2_tactile_shadowing_data/processed_data/bubble_calibration_dataset\n"
     ]
    },
    {
     "name": "stderr",
     "output_type": "stream",
     "text": [
      "100%|██████████████████████████████████████████████████████████████████████████████████████████████████████████████████████████████████████████████████████████████| 60/60 [00:24<00:00,  2.44it/s]\n"
     ]
    },
    {
     "name": "stdout",
     "output_type": "stream",
     "text": [
      "Data processed\n",
      "Warning: 20000 points required, but 31385 points sampled.\n"
     ]
    },
    {
     "name": "stderr",
     "output_type": "stream",
     "text": [
      "WARNING:absl:The transformations API will eventually be replaced by an upgraded design. The current API will not be removed until this point, but it will no longer be actively worked on.\n"
     ]
    },
    {
     "name": "stdout",
     "output_type": "stream",
     "text": [
      "Restore checkpoint  ./ckpt/9 at step  30000\n",
      "1081 1209 961\n",
      "Processing the data and saving it to /home/young/Research/jaxpi/examples/membrane_real_v3/data/bubble_v2_tactile_shadowing_data/processed_data/bubble_calibration_dataset\n"
     ]
    },
    {
     "name": "stderr",
     "output_type": "stream",
     "text": [
      "100%|██████████████████████████████████████████████████████████████████████████████████████████████████████████████████████████████████████████████████████████████| 60/60 [00:24<00:00,  2.46it/s]\n"
     ]
    },
    {
     "name": "stdout",
     "output_type": "stream",
     "text": [
      "Data processed\n",
      "Warning: 20000 points required, but 31385 points sampled.\n"
     ]
    },
    {
     "name": "stderr",
     "output_type": "stream",
     "text": [
      "WARNING:absl:The transformations API will eventually be replaced by an upgraded design. The current API will not be removed until this point, but it will no longer be actively worked on.\n"
     ]
    },
    {
     "name": "stdout",
     "output_type": "stream",
     "text": [
      "Restore checkpoint  ./ckpt/10 at step  30000\n",
      "959 1652 711\n",
      "Processing the data and saving it to /home/young/Research/jaxpi/examples/membrane_real_v3/data/bubble_v2_tactile_shadowing_data/processed_data/bubble_calibration_dataset\n"
     ]
    },
    {
     "name": "stderr",
     "output_type": "stream",
     "text": [
      "100%|██████████████████████████████████████████████████████████████████████████████████████████████████████████████████████████████████████████████████████████████| 60/60 [00:24<00:00,  2.48it/s]\n"
     ]
    },
    {
     "name": "stdout",
     "output_type": "stream",
     "text": [
      "Data processed\n",
      "Warning: 20000 points required, but 31385 points sampled.\n"
     ]
    },
    {
     "name": "stderr",
     "output_type": "stream",
     "text": [
      "WARNING:absl:The transformations API will eventually be replaced by an upgraded design. The current API will not be removed until this point, but it will no longer be actively worked on.\n"
     ]
    },
    {
     "name": "stdout",
     "output_type": "stream",
     "text": [
      "Restore checkpoint  ./ckpt/11 at step  30000\n",
      "1648 1473 1260\n",
      "Processing the data and saving it to /home/young/Research/jaxpi/examples/membrane_real_v3/data/bubble_v2_tactile_shadowing_data/processed_data/bubble_calibration_dataset\n"
     ]
    },
    {
     "name": "stderr",
     "output_type": "stream",
     "text": [
      "100%|██████████████████████████████████████████████████████████████████████████████████████████████████████████████████████████████████████████████████████████████| 60/60 [00:24<00:00,  2.43it/s]\n"
     ]
    },
    {
     "name": "stdout",
     "output_type": "stream",
     "text": [
      "Data processed\n",
      "Warning: 20000 points required, but 31385 points sampled.\n"
     ]
    },
    {
     "name": "stderr",
     "output_type": "stream",
     "text": [
      "WARNING:absl:The transformations API will eventually be replaced by an upgraded design. The current API will not be removed until this point, but it will no longer be actively worked on.\n"
     ]
    },
    {
     "name": "stdout",
     "output_type": "stream",
     "text": [
      "Restore checkpoint  ./ckpt/12 at step  30000\n",
      "1314 1706 1114\n",
      "Processing the data and saving it to /home/young/Research/jaxpi/examples/membrane_real_v3/data/bubble_v2_tactile_shadowing_data/processed_data/bubble_calibration_dataset\n"
     ]
    },
    {
     "name": "stderr",
     "output_type": "stream",
     "text": [
      "100%|██████████████████████████████████████████████████████████████████████████████████████████████████████████████████████████████████████████████████████████████| 60/60 [00:24<00:00,  2.47it/s]\n"
     ]
    },
    {
     "name": "stdout",
     "output_type": "stream",
     "text": [
      "Data processed\n",
      "Warning: 20000 points required, but 31385 points sampled.\n"
     ]
    },
    {
     "name": "stderr",
     "output_type": "stream",
     "text": [
      "WARNING:absl:The transformations API will eventually be replaced by an upgraded design. The current API will not be removed until this point, but it will no longer be actively worked on.\n"
     ]
    },
    {
     "name": "stdout",
     "output_type": "stream",
     "text": [
      "Restore checkpoint  ./ckpt/13 at step  30000\n",
      "889 1440 749\n",
      "Processing the data and saving it to /home/young/Research/jaxpi/examples/membrane_real_v3/data/bubble_v2_tactile_shadowing_data/processed_data/bubble_calibration_dataset\n"
     ]
    },
    {
     "name": "stderr",
     "output_type": "stream",
     "text": [
      "100%|██████████████████████████████████████████████████████████████████████████████████████████████████████████████████████████████████████████████████████████████| 60/60 [00:24<00:00,  2.44it/s]\n"
     ]
    },
    {
     "name": "stdout",
     "output_type": "stream",
     "text": [
      "Data processed\n",
      "Warning: 20000 points required, but 31385 points sampled.\n"
     ]
    },
    {
     "name": "stderr",
     "output_type": "stream",
     "text": [
      "WARNING:absl:The transformations API will eventually be replaced by an upgraded design. The current API will not be removed until this point, but it will no longer be actively worked on.\n"
     ]
    },
    {
     "name": "stdout",
     "output_type": "stream",
     "text": [
      "Restore checkpoint  ./ckpt/14 at step  30000\n",
      "1952 1565 1541\n",
      "Processing the data and saving it to /home/young/Research/jaxpi/examples/membrane_real_v3/data/bubble_v2_tactile_shadowing_data/processed_data/bubble_calibration_dataset\n"
     ]
    },
    {
     "name": "stderr",
     "output_type": "stream",
     "text": [
      "100%|██████████████████████████████████████████████████████████████████████████████████████████████████████████████████████████████████████████████████████████████| 60/60 [00:24<00:00,  2.43it/s]\n"
     ]
    },
    {
     "name": "stdout",
     "output_type": "stream",
     "text": [
      "Data processed\n",
      "Warning: 20000 points required, but 31385 points sampled.\n"
     ]
    },
    {
     "name": "stderr",
     "output_type": "stream",
     "text": [
      "WARNING:absl:The transformations API will eventually be replaced by an upgraded design. The current API will not be removed until this point, but it will no longer be actively worked on.\n"
     ]
    },
    {
     "name": "stdout",
     "output_type": "stream",
     "text": [
      "Restore checkpoint  ./ckpt/15 at step  30000\n",
      "823 1396 707\n",
      "Processing the data and saving it to /home/young/Research/jaxpi/examples/membrane_real_v3/data/bubble_v2_tactile_shadowing_data/processed_data/bubble_calibration_dataset\n"
     ]
    },
    {
     "name": "stderr",
     "output_type": "stream",
     "text": [
      "100%|██████████████████████████████████████████████████████████████████████████████████████████████████████████████████████████████████████████████████████████████| 60/60 [00:24<00:00,  2.43it/s]\n"
     ]
    },
    {
     "name": "stdout",
     "output_type": "stream",
     "text": [
      "Data processed\n",
      "Warning: 20000 points required, but 31385 points sampled.\n"
     ]
    },
    {
     "name": "stderr",
     "output_type": "stream",
     "text": [
      "WARNING:absl:The transformations API will eventually be replaced by an upgraded design. The current API will not be removed until this point, but it will no longer be actively worked on.\n"
     ]
    },
    {
     "name": "stdout",
     "output_type": "stream",
     "text": [
      "Restore checkpoint  ./ckpt/16 at step  30000\n",
      "937 1524 628\n",
      "Processing the data and saving it to /home/young/Research/jaxpi/examples/membrane_real_v3/data/bubble_v2_tactile_shadowing_data/processed_data/bubble_calibration_dataset\n"
     ]
    },
    {
     "name": "stderr",
     "output_type": "stream",
     "text": [
      "100%|██████████████████████████████████████████████████████████████████████████████████████████████████████████████████████████████████████████████████████████████| 60/60 [00:24<00:00,  2.46it/s]\n"
     ]
    },
    {
     "name": "stdout",
     "output_type": "stream",
     "text": [
      "Data processed\n",
      "Warning: 20000 points required, but 31385 points sampled.\n"
     ]
    },
    {
     "name": "stderr",
     "output_type": "stream",
     "text": [
      "WARNING:absl:The transformations API will eventually be replaced by an upgraded design. The current API will not be removed until this point, but it will no longer be actively worked on.\n"
     ]
    },
    {
     "name": "stdout",
     "output_type": "stream",
     "text": [
      "Restore checkpoint  ./ckpt/17 at step  30000\n",
      "1461 1365 1153\n",
      "Processing the data and saving it to /home/young/Research/jaxpi/examples/membrane_real_v3/data/bubble_v2_tactile_shadowing_data/processed_data/bubble_calibration_dataset\n"
     ]
    },
    {
     "name": "stderr",
     "output_type": "stream",
     "text": [
      "100%|██████████████████████████████████████████████████████████████████████████████████████████████████████████████████████████████████████████████████████████████| 60/60 [00:24<00:00,  2.42it/s]\n"
     ]
    },
    {
     "name": "stdout",
     "output_type": "stream",
     "text": [
      "Data processed\n",
      "Warning: 20000 points required, but 31385 points sampled.\n"
     ]
    },
    {
     "name": "stderr",
     "output_type": "stream",
     "text": [
      "WARNING:absl:The transformations API will eventually be replaced by an upgraded design. The current API will not be removed until this point, but it will no longer be actively worked on.\n"
     ]
    },
    {
     "name": "stdout",
     "output_type": "stream",
     "text": [
      "Restore checkpoint  ./ckpt/18 at step  30000\n",
      "1494 1606 1098\n",
      "Processing the data and saving it to /home/young/Research/jaxpi/examples/membrane_real_v3/data/bubble_v2_tactile_shadowing_data/processed_data/bubble_calibration_dataset\n"
     ]
    },
    {
     "name": "stderr",
     "output_type": "stream",
     "text": [
      "100%|██████████████████████████████████████████████████████████████████████████████████████████████████████████████████████████████████████████████████████████████| 60/60 [00:24<00:00,  2.42it/s]\n"
     ]
    },
    {
     "name": "stdout",
     "output_type": "stream",
     "text": [
      "Data processed\n",
      "Warning: 20000 points required, but 31385 points sampled.\n"
     ]
    },
    {
     "name": "stderr",
     "output_type": "stream",
     "text": [
      "WARNING:absl:The transformations API will eventually be replaced by an upgraded design. The current API will not be removed until this point, but it will no longer be actively worked on.\n"
     ]
    },
    {
     "name": "stdout",
     "output_type": "stream",
     "text": [
      "Restore checkpoint  ./ckpt/19 at step  30000\n",
      "1033 1599 926\n",
      "Processing the data and saving it to /home/young/Research/jaxpi/examples/membrane_real_v3/data/bubble_v2_tactile_shadowing_data/processed_data/bubble_calibration_dataset\n"
     ]
    },
    {
     "name": "stderr",
     "output_type": "stream",
     "text": [
      "100%|██████████████████████████████████████████████████████████████████████████████████████████████████████████████████████████████████████████████████████████████| 60/60 [00:24<00:00,  2.42it/s]\n"
     ]
    },
    {
     "name": "stdout",
     "output_type": "stream",
     "text": [
      "Data processed\n",
      "Warning: 20000 points required, but 31385 points sampled.\n"
     ]
    },
    {
     "name": "stderr",
     "output_type": "stream",
     "text": [
      "WARNING:absl:The transformations API will eventually be replaced by an upgraded design. The current API will not be removed until this point, but it will no longer be actively worked on.\n"
     ]
    },
    {
     "name": "stdout",
     "output_type": "stream",
     "text": [
      "Restore checkpoint  ./ckpt/20 at step  30000\n",
      "1376 1393 1091\n",
      "Processing the data and saving it to /home/young/Research/jaxpi/examples/membrane_real_v3/data/bubble_v2_tactile_shadowing_data/processed_data/bubble_calibration_dataset\n"
     ]
    },
    {
     "name": "stderr",
     "output_type": "stream",
     "text": [
      "100%|██████████████████████████████████████████████████████████████████████████████████████████████████████████████████████████████████████████████████████████████| 60/60 [00:24<00:00,  2.42it/s]\n"
     ]
    },
    {
     "name": "stdout",
     "output_type": "stream",
     "text": [
      "Data processed\n",
      "Warning: 20000 points required, but 31385 points sampled.\n"
     ]
    },
    {
     "name": "stderr",
     "output_type": "stream",
     "text": [
      "WARNING:absl:The transformations API will eventually be replaced by an upgraded design. The current API will not be removed until this point, but it will no longer be actively worked on.\n"
     ]
    },
    {
     "name": "stdout",
     "output_type": "stream",
     "text": [
      "Restore checkpoint  ./ckpt/21 at step  30000\n",
      "920 1084 802\n",
      "Processing the data and saving it to /home/young/Research/jaxpi/examples/membrane_real_v3/data/bubble_v2_tactile_shadowing_data/processed_data/bubble_calibration_dataset\n"
     ]
    },
    {
     "name": "stderr",
     "output_type": "stream",
     "text": [
      "100%|██████████████████████████████████████████████████████████████████████████████████████████████████████████████████████████████████████████████████████████████| 60/60 [00:24<00:00,  2.45it/s]\n"
     ]
    },
    {
     "name": "stdout",
     "output_type": "stream",
     "text": [
      "Data processed\n",
      "Warning: 20000 points required, but 31385 points sampled.\n"
     ]
    },
    {
     "name": "stderr",
     "output_type": "stream",
     "text": [
      "WARNING:absl:The transformations API will eventually be replaced by an upgraded design. The current API will not be removed until this point, but it will no longer be actively worked on.\n"
     ]
    },
    {
     "name": "stdout",
     "output_type": "stream",
     "text": [
      "Restore checkpoint  ./ckpt/22 at step  30000\n",
      "960 68 0\n",
      "Processing the data and saving it to /home/young/Research/jaxpi/examples/membrane_real_v3/data/bubble_v2_tactile_shadowing_data/processed_data/bubble_calibration_dataset\n"
     ]
    },
    {
     "name": "stderr",
     "output_type": "stream",
     "text": [
      "100%|██████████████████████████████████████████████████████████████████████████████████████████████████████████████████████████████████████████████████████████████| 60/60 [00:24<00:00,  2.43it/s]\n"
     ]
    },
    {
     "name": "stdout",
     "output_type": "stream",
     "text": [
      "Data processed\n",
      "Warning: 20000 points required, but 31385 points sampled.\n"
     ]
    },
    {
     "name": "stderr",
     "output_type": "stream",
     "text": [
      "WARNING:absl:The transformations API will eventually be replaced by an upgraded design. The current API will not be removed until this point, but it will no longer be actively worked on.\n"
     ]
    },
    {
     "name": "stdout",
     "output_type": "stream",
     "text": [
      "Restore checkpoint  ./ckpt/23 at step  30000\n",
      "1034 0 0\n",
      "Processing the data and saving it to /home/young/Research/jaxpi/examples/membrane_real_v3/data/bubble_v2_tactile_shadowing_data/processed_data/bubble_calibration_dataset\n"
     ]
    },
    {
     "name": "stderr",
     "output_type": "stream",
     "text": [
      "100%|██████████████████████████████████████████████████████████████████████████████████████████████████████████████████████████████████████████████████████████████| 60/60 [00:24<00:00,  2.43it/s]\n"
     ]
    },
    {
     "name": "stdout",
     "output_type": "stream",
     "text": [
      "Data processed\n",
      "Warning: 20000 points required, but 31385 points sampled.\n"
     ]
    },
    {
     "name": "stderr",
     "output_type": "stream",
     "text": [
      "WARNING:absl:The transformations API will eventually be replaced by an upgraded design. The current API will not be removed until this point, but it will no longer be actively worked on.\n"
     ]
    },
    {
     "name": "stdout",
     "output_type": "stream",
     "text": [
      "Restore checkpoint  ./ckpt/24 at step  30000\n",
      "1440 1649 1197\n",
      "Processing the data and saving it to /home/young/Research/jaxpi/examples/membrane_real_v3/data/bubble_v2_tactile_shadowing_data/processed_data/bubble_calibration_dataset\n"
     ]
    },
    {
     "name": "stderr",
     "output_type": "stream",
     "text": [
      "100%|██████████████████████████████████████████████████████████████████████████████████████████████████████████████████████████████████████████████████████████████| 60/60 [00:24<00:00,  2.46it/s]\n"
     ]
    },
    {
     "name": "stdout",
     "output_type": "stream",
     "text": [
      "Data processed\n",
      "Warning: 20000 points required, but 31385 points sampled.\n"
     ]
    },
    {
     "name": "stderr",
     "output_type": "stream",
     "text": [
      "WARNING:absl:The transformations API will eventually be replaced by an upgraded design. The current API will not be removed until this point, but it will no longer be actively worked on.\n"
     ]
    },
    {
     "name": "stdout",
     "output_type": "stream",
     "text": [
      "Restore checkpoint  ./ckpt/25 at step  30000\n",
      "1075 1453 1039\n",
      "Processing the data and saving it to /home/young/Research/jaxpi/examples/membrane_real_v3/data/bubble_v2_tactile_shadowing_data/processed_data/bubble_calibration_dataset\n"
     ]
    },
    {
     "name": "stderr",
     "output_type": "stream",
     "text": [
      "100%|██████████████████████████████████████████████████████████████████████████████████████████████████████████████████████████████████████████████████████████████| 60/60 [00:24<00:00,  2.45it/s]\n"
     ]
    },
    {
     "name": "stdout",
     "output_type": "stream",
     "text": [
      "Data processed\n",
      "Warning: 20000 points required, but 31385 points sampled.\n"
     ]
    },
    {
     "name": "stderr",
     "output_type": "stream",
     "text": [
      "WARNING:absl:The transformations API will eventually be replaced by an upgraded design. The current API will not be removed until this point, but it will no longer be actively worked on.\n"
     ]
    },
    {
     "name": "stdout",
     "output_type": "stream",
     "text": [
      "Restore checkpoint  ./ckpt/26 at step  30000\n",
      "148 0 0\n",
      "Processing the data and saving it to /home/young/Research/jaxpi/examples/membrane_real_v3/data/bubble_v2_tactile_shadowing_data/processed_data/bubble_calibration_dataset\n"
     ]
    },
    {
     "name": "stderr",
     "output_type": "stream",
     "text": [
      "100%|██████████████████████████████████████████████████████████████████████████████████████████████████████████████████████████████████████████████████████████████| 60/60 [00:24<00:00,  2.44it/s]\n"
     ]
    },
    {
     "name": "stdout",
     "output_type": "stream",
     "text": [
      "Data processed\n",
      "Warning: 20000 points required, but 31385 points sampled.\n"
     ]
    },
    {
     "name": "stderr",
     "output_type": "stream",
     "text": [
      "WARNING:absl:The transformations API will eventually be replaced by an upgraded design. The current API will not be removed until this point, but it will no longer be actively worked on.\n"
     ]
    },
    {
     "name": "stdout",
     "output_type": "stream",
     "text": [
      "Restore checkpoint  ./ckpt/27 at step  30000\n",
      "0 0 0\n",
      "Processing the data and saving it to /home/young/Research/jaxpi/examples/membrane_real_v3/data/bubble_v2_tactile_shadowing_data/processed_data/bubble_calibration_dataset\n"
     ]
    },
    {
     "name": "stderr",
     "output_type": "stream",
     "text": [
      "100%|██████████████████████████████████████████████████████████████████████████████████████████████████████████████████████████████████████████████████████████████| 60/60 [00:24<00:00,  2.46it/s]\n"
     ]
    },
    {
     "name": "stdout",
     "output_type": "stream",
     "text": [
      "Data processed\n",
      "Warning: 20000 points required, but 31385 points sampled.\n"
     ]
    },
    {
     "name": "stderr",
     "output_type": "stream",
     "text": [
      "WARNING:absl:The transformations API will eventually be replaced by an upgraded design. The current API will not be removed until this point, but it will no longer be actively worked on.\n"
     ]
    },
    {
     "name": "stdout",
     "output_type": "stream",
     "text": [
      "Restore checkpoint  ./ckpt/28 at step  30000\n",
      "943 1718 745\n",
      "Processing the data and saving it to /home/young/Research/jaxpi/examples/membrane_real_v3/data/bubble_v2_tactile_shadowing_data/processed_data/bubble_calibration_dataset\n"
     ]
    },
    {
     "name": "stderr",
     "output_type": "stream",
     "text": [
      "100%|██████████████████████████████████████████████████████████████████████████████████████████████████████████████████████████████████████████████████████████████| 60/60 [00:24<00:00,  2.42it/s]\n"
     ]
    },
    {
     "name": "stdout",
     "output_type": "stream",
     "text": [
      "Data processed\n",
      "Warning: 20000 points required, but 31385 points sampled.\n"
     ]
    },
    {
     "name": "stderr",
     "output_type": "stream",
     "text": [
      "WARNING:absl:The transformations API will eventually be replaced by an upgraded design. The current API will not be removed until this point, but it will no longer be actively worked on.\n"
     ]
    },
    {
     "name": "stdout",
     "output_type": "stream",
     "text": [
      "Restore checkpoint  ./ckpt/29 at step  30000\n",
      "1795 1569 1365\n",
      "Processing the data and saving it to /home/young/Research/jaxpi/examples/membrane_real_v3/data/bubble_v2_tactile_shadowing_data/processed_data/bubble_calibration_dataset\n"
     ]
    },
    {
     "name": "stderr",
     "output_type": "stream",
     "text": [
      "100%|██████████████████████████████████████████████████████████████████████████████████████████████████████████████████████████████████████████████████████████████| 60/60 [00:24<00:00,  2.47it/s]\n"
     ]
    },
    {
     "name": "stdout",
     "output_type": "stream",
     "text": [
      "Data processed\n",
      "Warning: 20000 points required, but 31385 points sampled.\n"
     ]
    },
    {
     "name": "stderr",
     "output_type": "stream",
     "text": [
      "WARNING:absl:The transformations API will eventually be replaced by an upgraded design. The current API will not be removed until this point, but it will no longer be actively worked on.\n"
     ]
    },
    {
     "name": "stdout",
     "output_type": "stream",
     "text": [
      "Restore checkpoint  ./ckpt/53 at step  30000\n",
      "1760 1348 1247\n"
     ]
    },
    {
     "data": {
      "image/png": "[encoded data removed]",
      "text/plain": [
       "<Figure size 640x480 with 1 Axes>"
      ]
     },
     "metadata": {},
     "output_type": "display_data"
    }
   ],
   "source": [
    "import matplotlib.pyplot as plt \n",
    "\n",
    "result = \"result/summary_all.csv\"\n",
    "result_file = Path(result)\n",
    "fieldnames = ['IDX', 'log path', 'object', 'wrench gt', 'wrench est', 'wrench error', 'p_thres', 'IoU']\n",
    "\n",
    "if result_file.is_file(): \n",
    "    with open(result, newline='') as csvfile:\n",
    "        reader = csv.DictReader(csvfile)\n",
    "        for row in reader:\n",
    "            print(row)\n",
    "\n",
    "else:\n",
    "    with open(result, 'w', newline='') as csvfile:\n",
    "        writer = csv.writer(csvfile)\n",
    "        writer = csv.DictWriter(csvfile, fieldnames=fieldnames)\n",
    "        writer.writeheader()\n",
    "\n",
    "result_dict = {}\n",
    "for SEQ_IDX in indexs:\n",
    "    result_dir = f\"result/{SEQ_IDX}\"\n",
    "    if not os.path.isdir(f\"result/{SEQ_IDX}\"):\n",
    "        os.mkdir(result_dir)\n",
    "\n",
    "    SEQ_IDX_ = SEQ_IDX-40 if data_name == 'bubble_v2_tactile_shadowing_data_only_o_45' else SEQ_IDX\n",
    "\n",
    "    (\n",
    "        obs_pcd,\n",
    "        wall_coords,\n",
    "        outer_coords, \n",
    "        E,\n",
    "        P,\n",
    "        t, \n",
    "        nu,\n",
    "        a, \n",
    "        b,\n",
    "        L,\n",
    "        L_e,\n",
    "        etc,\n",
    "    ) = get_dataset(N=20000, SEQ_IDX = SEQ_IDX_, data_name = data_name)\n",
    "    \n",
    "    \n",
    "    E = E / (L **2)   # rubber 0.1 GPa (N/m**2)\n",
    "    P = P / (L **2)\n",
    "    t = t * L# 0.3 mm\n",
    "    a, b = a*L, b*L\n",
    "    wall_coords = wall_coords * L\n",
    "    obs_pcd = obs_pcd * L\n",
    "    outer_coords = outer_coords * L\n",
    "    \n",
    "    data_i = dataset[SEQ_IDX_]\n",
    "    bubble_pc_bf = obs_pcd\n",
    "\n",
    "    # Load stl\n",
    "    tool_name = data_i['shape_id']\n",
    "    mesh_path = get_mesh_path(f'pressing_shapes/{tool_name}.stl')\n",
    "    tool_mesh = load_mesh(mesh_path)\n",
    "\n",
    "    bubble_pc_bcf = data_i['bubble_pointcloud_cf']\n",
    "    w_X_stl = data_i['world_X_stl']\n",
    "    w_X_bcf = data_i['w_X_bcf']\n",
    "    w_X_sf = data_i['w_X_sf']\n",
    "\n",
    "    \n",
    "    stl_X_bcf = np.linalg.inv(w_X_stl) @ w_X_bcf\n",
    "    bubble_pc_stl = tr_pointcloud(bubble_pc_bcf, T=stl_X_bcf)  # (H, W, 3 or 6)\n",
    "    # Ground Truth Contact\n",
    "    contact_mask_r = get_bubble_tool_contact_points_sdf(bubble_pc_bcf[np.newaxis,...], \n",
    "                                                            tool_name, \n",
    "                                                            w_X_bcf, \n",
    "                                                            w_X_sf, \n",
    "                                                            contact_threshold=0.0003)\n",
    "\n",
    "\n",
    "    config = get_config()\n",
    "    CONFIG_NAME = 'configs/ts.py'\n",
    "    ckpt_path = os.path.join(\".\", \"ckpt\", CONFIG_NAME)\n",
    "    \n",
    "    model = models.Membrane(\n",
    "            config,\n",
    "            wall_coords,\n",
    "            obs_pcd,\n",
    "            outer_coords,\n",
    "            E, P, t, nu, a, b, L, L_e,\n",
    "        )\n",
    "    ckpt_path = os.path.join(\".\", \"ckpt\", f\"{SEQ_IDX}\")\n",
    "    model.state = restore_checkpoint(model.state, ckpt_path)\n",
    "    params = model.state.params\n",
    "\n",
    "    u_pred = model.u_pred_fn(params, outer_coords[:,0], outer_coords[:,1])\n",
    "    v_pred = model.v_pred_fn(params, outer_coords[:,0], outer_coords[:,1])\n",
    "    w_pred = model.w_pred_fn(params, outer_coords[:,0], outer_coords[:,1])\n",
    "    f_pred = model.f_pred_fn(params, outer_coords[:,0], outer_coords[:,1])\n",
    "    \n",
    "    f_pred = np.clip(f_pred, 0., np.inf)\n",
    "    s = (outer_coords[2,0] - outer_coords[1,0]) #/L # pointcloud should be ordered\n",
    "    \n",
    "    # Convert back the scale\n",
    "    x_hat = outer_coords[:, 0]/L + u_pred/L\n",
    "    y_hat = outer_coords[:, 1]/L + v_pred/L\n",
    "    z_hat = w_pred/L\n",
    "    \n",
    "    pcd = np.concatenate([x_hat[..., np.newaxis],\n",
    "                          y_hat[..., np.newaxis],\n",
    "                          z_hat[..., np.newaxis]], axis = 1)\n",
    "    \n",
    "    # Ground truth wrench\n",
    "    wrench_w = np.linalg.norm(np.array(data_i['wrench_w'][:3])) # (N, 6)\n",
    "    \n",
    "    # s = (outer_coords[2,0] - outer_coords[1,0])/L # pointcloud should be ordered\n",
    "    cnt_fc = np.sum(f_pred) * s**2\n",
    "\n",
    "    #Define a regular grid over the data\n",
    "    xr = np.linspace(-0.06, 0.06, 120)\n",
    "    yr= np.linspace(-0.04, 0.04, 80)\n",
    "    xr, yr = np.meshgrid(xr, yr)\n",
    "    \n",
    "    #evaluate the z-values at the regular grid through cubic interpolation\n",
    "    Z = griddata((x_hat, y_hat), f_pred * L**2, (xr, yr))\n",
    "    \n",
    "    Z_cnt = griddata((bubble_pc_bf.reshape(-1, 3)[:,0]/L, \n",
    "                      bubble_pc_bf.reshape(-1, 3)[:,1]/L), \n",
    "                     contact_mask_r.reshape(-1)*255, (xr, yr))\n",
    "    ellipse_area = sum(not np.isnan(x) for x in Z.reshape(-1))\n",
    "\n",
    "    #evaluate the z-values at the regular grid through cubic interpolation\n",
    "    Z = np.nan_to_num(Z)\n",
    "    Z_cnt = np.nan_to_num(Z_cnt)\n",
    "\n",
    "\n",
    "    \n",
    "    # Contact Mask Prediction\n",
    "    average = (np.sum(Z)/ellipse_area) * 2\n",
    "    p_thres = max(2.5e3, average) # TODO: This is tunable\n",
    "    cnt_est_real = np.where( Z < p_thres, np.zeros_like(Z), np.ones_like(Z))\n",
    "    Z_cnt_real = np.where( Z_cnt == 0, np.zeros_like(Z_cnt), np.ones_like(Z_cnt))\n",
    "\n",
    "    iou = binary_mask_iou (Z_cnt_real,  cnt_est_real)\n",
    "    plt.imshow(Z_cnt_real+cnt_est_real*2)\n",
    "    plt.savefig(f\"{result_dir}/iou_{SEQ_IDX}.png\")\n",
    "\n",
    "\n",
    "    result_dict[SEQ_IDX]= {\"grid\": np.stack([ outer_coords[:, 0]/L,  outer_coords[:, 1]/L], axis = 1),\n",
    "                           \"deformation\": np.stack([ u_pred/L,  v_pred/L,  w_pred/L], axis = 1), \n",
    "                           \"pressure\": f_pred * L**2, \n",
    "                           \"mask_gt\": Z_cnt_real, \n",
    "                           \"mask_est\": cnt_est_real,\n",
    "                          \"wrench_gt\": data_i['wrench_w'],\n",
    "                          \"wrench_est\": cnt_fc}\n",
    "            \n",
    "    with open(result, 'a', newline='') as csvfile:  \n",
    "        writer = csv.DictWriter(csvfile, fieldnames=fieldnames)\n",
    "        writer.writerow({'IDX': SEQ_IDX, \n",
    "                         'log path':ckpt_path, \n",
    "                         'object': tool_name, \n",
    "                         'wrench gt': wrench_w, \n",
    "                         'wrench est': cnt_fc, \n",
    "                         'wrench error': abs( wrench_w - cnt_fc), \n",
    "                         \"p_thres\": p_thres, \n",
    "                         'IoU':iou})\n",
    "  "
   ]
  },
  {
   "cell_type": "code",
   "execution_count": 15,
   "id": "62d304a9-7be0-4c7b-bd53-4079c5787847",
   "metadata": {},
   "outputs": [],
   "source": [
    "\n",
    "import pickle\n",
    "save_name =  \"result/result_dict.pkl\" if not data_name == 'bubble_v2_tactile_shadowing_data_only_o_45' else  \"result/result_dict_o_45.pkl\"\n",
    "with open(save_name, 'wb') as f:\n",
    "    pickle.dump(result_dict, f)  "
   ]
  },
  {
   "cell_type": "code",
   "execution_count": 14,
   "id": "03be481a-3c9c-418b-9ef1-d42b80c1f9e3",
   "metadata": {},
   "outputs": [
    {
     "data": {
      "text/plain": [
       "'result/result_dict.pkl'"
      ]
     },
     "execution_count": 14,
     "metadata": {},
     "output_type": "execute_result"
    }
   ],
   "source": [
    "save_name =  \"result/result_dict.pkl\" if not data_name == 'bubble_v2_tactile_shadowing_data_only_o_45' else  \"result/result_dict_o_45.pkl\"\n",
    "save_name\n",
    "\n",
    "        "
   ]
  },
  {
   "cell_type": "code",
   "execution_count": 4,
   "id": "1f348f10-7f5b-49b2-8b11-c4cc44abd37d",
   "metadata": {},
   "outputs": [
    {
     "data": {
      "text/plain": [
       "False"
      ]
     },
     "execution_count": 4,
     "metadata": {},
     "output_type": "execute_result"
    }
   ],
   "source": [
    "data_name == 'bubble_v2_tactile_shadowing_data_only_o_45'"
   ]
  },
  {
   "cell_type": "code",
   "execution_count": null,
   "id": "a7ba6d25-6923-49fd-abe4-1101ced16496",
   "metadata": {},
   "outputs": [],
   "source": []
  }
 ],
 "metadata": {
  "kernelspec": {
   "display_name": "jaxpi",
   "language": "python",
   "name": "jaxpi"
  },
  "language_info": {
   "codemirror_mode": {
    "name": "ipython",
    "version": 3
   },
   "file_extension": ".py",
   "mimetype": "text/x-python",
   "name": "python",
   "nbconvert_exporter": "python",
   "pygments_lexer": "ipython3",
   "version": "3.11.9"
  }
 },
 "nbformat": 4,
 "nbformat_minor": 5
}
