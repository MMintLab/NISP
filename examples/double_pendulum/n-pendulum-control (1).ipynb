{
 "cells": [
  {
   "cell_type": "markdown",
   "metadata": {
    "deletable": true,
    "editable": true
   },
   "source": [
    "# Introduction\n",
    "\n",
    "Several pieces of the puzzle have come together lately to really demonstrate the power of the scientific python software packages to handle complex dynamic and controls problems (i.e. IPython notebooks, matplotlib animations, python-control, and our software packages: sympy.physics.mechanics and PyDy).\n",
    "\n",
    "This [blog post by Wolfram](http://blog.wolfram.com/2011/03/01/stabilized-n-link-pendulum/) demonstrates Mathematica's ability to symbolically derive the equations of motion for the n-link pendulum and stabilize it with an LQR controller. This blog post inspired us to replicate the example with all free and open source software.\n",
    "\n",
    "In this example problem, we derive the equations of motion of an n-link pendulum on a laterally sliding cart and then develop a controller to stabilize it. Balancing a single inverted pendulum is a classic problem that is often a student's first experience with non-linear dynamics and control. The problem here is extended to a general n-link pendulum in which the equations of motion quickly get messy with greater than 2 links.\n",
    "\n",
    "The diagram below shows the general description of the problem."
   ]
  },
  {
   "cell_type": "code",
   "execution_count": 83,
   "metadata": {
    "collapsed": false,
    "deletable": true,
    "editable": true,
    "jupyter": {
     "outputs_hidden": false
    }
   },
   "outputs": [],
   "source": [
    "from IPython.display import SVG\n",
    "# SVG(filename='n-pendulum-with-cart.svg')"
   ]
  },
  {
   "cell_type": "markdown",
   "metadata": {
    "deletable": true,
    "editable": true
   },
   "source": [
    "Setup\n",
    "===\n",
    "\n",
    "This example depends on the following software:\n",
    "\n",
    "- IPython\n",
    "- NumPy\n",
    "- SciPy\n",
    "- SymPy >= 0.7.6\n",
    "- matplotlib\n",
    "\n",
    "The easiest way to install the Python packages it is to use conda:\n",
    "\n",
    "```\n",
    "$ conda install ipython-notebook numpy scipy sympy matplotlib\n",
    "```\n",
    "\n",
    "To create animations you need a video encoder like ffmpeg installed. \n",
    "\n",
    "Equations of Motion\n",
    "===================\n",
    "\n",
    "We'll start by generating the equations of motion for the system with SymPy **[mechanics](http://docs.sympy.org/dev/modules/physics/mechanics/index.html)**. The functionality that mechanics provides is much more in depth than Mathematica's functionality. In the Mathematica example, Lagrangian mechanics were implemented manually with Mathematica's symbolic functionality. **mechanics** provides an assortment of functions and classes to derive the equations of motion for arbitrarily complex (i.e. configuration constraints, nonholonomic motion constraints, etc) multibody systems in a very natural way. First we import the necessary functionality from SymPy."
   ]
  },
  {
   "cell_type": "code",
   "execution_count": 84,
   "metadata": {
    "deletable": true,
    "editable": true
   },
   "outputs": [],
   "source": [
    "from __future__ import division, print_function"
   ]
  },
  {
   "cell_type": "code",
   "execution_count": 85,
   "metadata": {
    "collapsed": false,
    "deletable": true,
    "editable": true,
    "jupyter": {
     "outputs_hidden": false
    }
   },
   "outputs": [],
   "source": [
    "import sympy as sm\n",
    "import sympy.physics.mechanics as me"
   ]
  },
  {
   "cell_type": "markdown",
   "metadata": {
    "deletable": true,
    "editable": true
   },
   "source": [
    "We can enable mathematical rendering of the resulting equations in the notebook with the following command."
   ]
  },
  {
   "cell_type": "code",
   "execution_count": 86,
   "metadata": {
    "deletable": true,
    "editable": true
   },
   "outputs": [],
   "source": [
    "me.init_vprinting()"
   ]
  },
  {
   "cell_type": "markdown",
   "metadata": {
    "deletable": true,
    "editable": true
   },
   "source": [
    "Now specify the number of links, $n$. I'll start with 5 since the Wolfram folks only showed four."
   ]
  },
  {
   "cell_type": "code",
   "execution_count": 99,
   "metadata": {
    "collapsed": false,
    "deletable": true,
    "editable": true,
    "jupyter": {
     "outputs_hidden": false
    }
   },
   "outputs": [],
   "source": [
    "n = 2"
   ]
  },
  {
   "cell_type": "markdown",
   "metadata": {
    "deletable": true,
    "editable": true
   },
   "source": [
    "**mechanics** will need the generalized coordinates, generalized speeds, and the input force which are all time dependent variables and the bob masses, link lengths, and acceleration due to gravity which are all constants. Time, $t$, is also made available because we will need to differentiate with respect to time."
   ]
  },
  {
   "cell_type": "code",
   "execution_count": 100,
   "metadata": {
    "collapsed": false,
    "deletable": true,
    "editable": true,
    "jupyter": {
     "outputs_hidden": false
    }
   },
   "outputs": [],
   "source": [
    "q = me.dynamicsymbols('q:{}'.format(n + 1))  # Generalized coordinates\n",
    "u = me.dynamicsymbols('u:{}'.format(n + 1))  # Generalized speeds\n",
    "f = me.dynamicsymbols('f')                   # Force applied to the cart\n",
    "    \n",
    "m = sm.symbols('m:{}'.format(n + 1))         # Mass of each bob\n",
    "l = sm.symbols('l:{}'.format(n))             # Length of each link\n",
    "g, t = sm.symbols('g t')                     # Gravity and time"
   ]
  },
  {
   "cell_type": "markdown",
   "metadata": {
    "deletable": true,
    "editable": true
   },
   "source": [
    "Now we can create and inertial reference frame $I$ and define the point, $O$, as the origin."
   ]
  },
  {
   "cell_type": "code",
   "execution_count": 101,
   "metadata": {
    "collapsed": false,
    "deletable": true,
    "editable": true,
    "jupyter": {
     "outputs_hidden": false
    }
   },
   "outputs": [],
   "source": [
    "I = me.ReferenceFrame('I')  # Inertial reference frame\n",
    "O = me.Point('O')           # Origin point\n",
    "O.set_vel(I, 0)             # Origin's velocity is zero"
   ]
  },
  {
   "cell_type": "markdown",
   "metadata": {
    "deletable": true,
    "editable": true
   },
   "source": [
    "Secondly, we define the define the first point of the pendulum as a particle which has mass. This point can only move laterally and represents the motion of the \"cart\"."
   ]
  },
  {
   "cell_type": "code",
   "execution_count": 102,
   "metadata": {
    "collapsed": false,
    "deletable": true,
    "editable": true,
    "jupyter": {
     "outputs_hidden": false
    }
   },
   "outputs": [],
   "source": [
    "P0 = me.Point('P0')                 # Hinge point of top link\n",
    "P0.set_pos(O, q[0] * I.x)           # Set the position of P0    \n",
    "P0.set_vel(I, u[0] * I.x)           # Set the velocity of P0\n",
    "Pa0 = me.Particle('Pa0', P0, m[0])  # Define a particle at P0"
   ]
  },
  {
   "cell_type": "markdown",
   "metadata": {
    "deletable": true,
    "editable": true
   },
   "source": [
    "Now we can define the $n$ reference frames, particles, gravitational forces, and kinematical differential equations for each of the pendulum links. This is easily done with a loop."
   ]
  },
  {
   "cell_type": "code",
   "execution_count": 103,
   "metadata": {
    "collapsed": false,
    "deletable": true,
    "editable": true,
    "jupyter": {
     "outputs_hidden": false
    }
   },
   "outputs": [],
   "source": [
    "frames = [I]                              # List to hold the n + 1 frames\n",
    "points = [P0]                             # List to hold the n + 1 points\n",
    "particles = [Pa0]                         # List to hold the n + 1 particles\n",
    "forces = [(P0, f * I.x - m[0] * g * I.y)] # List to hold the n + 1 applied forces, including the input force, f\n",
    "kindiffs = [q[0].diff(t) - u[0]]          # List to hold kinematic ODE's\n",
    "\n",
    "for i in range(n):\n",
    "    Bi = I.orientnew('B' + str(i), 'Axis', [q[i + 1], I.z])   # Create a new frame\n",
    "    Bi.set_ang_vel(I, u[i + 1] * I.z)                         # Set angular velocity\n",
    "    frames.append(Bi)                                         # Add it to the frames list\n",
    "\n",
    "    Pi = points[-1].locatenew('P' + str(i + 1), l[i] * Bi.x)  # Create a new point\n",
    "    Pi.v2pt_theory(points[-1], I, Bi)                         # Set the velocity\n",
    "    points.append(Pi)                                         # Add it to the points list\n",
    "    \n",
    "    Pai = me.Particle('Pa' + str(i + 1), Pi, m[i + 1])        # Create a new particle\n",
    "    particles.append(Pai)                                     # Add it to the particles list\n",
    "\n",
    "    forces.append((Pi, -m[i + 1] * g * I.y))                  # Set the force applied at the point\n",
    "        \n",
    "    kindiffs.append(q[i + 1].diff(t) - u[i + 1])              # Define the kinematic ODE:  dq_i / dt - u_i = 0"
   ]
  },
  {
   "cell_type": "markdown",
   "metadata": {
    "deletable": true,
    "editable": true
   },
   "source": [
    "With all of the necessary point velocities and particle masses defined, the `KanesMethod` class can be used to derive the equations of motion of the system automatically."
   ]
  },
  {
   "cell_type": "code",
   "execution_count": 104,
   "metadata": {
    "collapsed": false,
    "deletable": true,
    "editable": true,
    "jupyter": {
     "outputs_hidden": false
    }
   },
   "outputs": [],
   "source": [
    "kane = me.KanesMethod(I, q_ind=q, u_ind=u, kd_eqs=kindiffs)  # Initialize the object\n",
    "fr, frstar = kane.kanes_equations(particles, forces)         # Generate EoM's fr + frstar = 0"
   ]
  },
  {
   "cell_type": "code",
   "execution_count": 105,
   "metadata": {},
   "outputs": [
    {
     "data": {
      "text/latex": [
       "$\\displaystyle \\left[\\begin{matrix}f\\\\- g l_{0} m_{1} \\cos{\\left(q_{1} \\right)} - g l_{0} m_{2} \\cos{\\left(q_{1} \\right)}\\\\- g l_{1} m_{2} \\cos{\\left(q_{2} \\right)}\\end{matrix}\\right]$"
      ],
      "text/plain": [
       "⎡                f                 ⎤\n",
       "⎢                                  ⎥\n",
       "⎢-g⋅l₀⋅m₁⋅cos(q₁) - g⋅l₀⋅m₂⋅cos(q₁)⎥\n",
       "⎢                                  ⎥\n",
       "⎣         -g⋅l₁⋅m₂⋅cos(q₂)         ⎦"
      ]
     },
     "execution_count": 105,
     "metadata": {},
     "output_type": "execute_result"
    }
   ],
   "source": [
    "fr"
   ]
  },
  {
   "cell_type": "code",
   "execution_count": 107,
   "metadata": {},
   "outputs": [
    {
     "data": {
      "text/latex": [
       "$\\displaystyle \\left[\\begin{matrix}l_{0} m_{1} u_{1}^{2} \\cos{\\left(q_{1} \\right)} + l_{0} m_{2} u_{1}^{2} \\cos{\\left(q_{1} \\right)} + l_{1} m_{2} u_{2}^{2} \\cos{\\left(q_{2} \\right)} + l_{1} m_{2} \\sin{\\left(q_{2} \\right)} \\dot{u}_{2} - \\left(- l_{0} m_{1} \\sin{\\left(q_{1} \\right)} - l_{0} m_{2} \\sin{\\left(q_{1} \\right)}\\right) \\dot{u}_{1} - \\left(m_{0} + m_{1} + m_{2}\\right) \\dot{u}_{0}\\\\- l_{0} l_{1} m_{2} \\left(\\sin{\\left(q_{1} \\right)} \\sin{\\left(q_{2} \\right)} + \\cos{\\left(q_{1} \\right)} \\cos{\\left(q_{2} \\right)}\\right) \\dot{u}_{2} + l_{0} l_{1} m_{2} \\left(- \\sin{\\left(q_{1} \\right)} \\cos{\\left(q_{2} \\right)} + \\sin{\\left(q_{2} \\right)} \\cos{\\left(q_{1} \\right)}\\right) u_{2}^{2} - \\left(l_{0}^{2} m_{1} + l_{0}^{2} m_{2}\\right) \\dot{u}_{1} - \\left(- l_{0} m_{1} \\sin{\\left(q_{1} \\right)} - l_{0} m_{2} \\sin{\\left(q_{1} \\right)}\\right) \\dot{u}_{0}\\\\- l_{0} l_{1} m_{2} \\left(\\sin{\\left(q_{1} \\right)} \\sin{\\left(q_{2} \\right)} + \\cos{\\left(q_{1} \\right)} \\cos{\\left(q_{2} \\right)}\\right) \\dot{u}_{1} + l_{0} l_{1} m_{2} \\left(\\sin{\\left(q_{1} \\right)} \\cos{\\left(q_{2} \\right)} - \\sin{\\left(q_{2} \\right)} \\cos{\\left(q_{1} \\right)}\\right) u_{1}^{2} - l_{1}^{2} m_{2} \\dot{u}_{2} + l_{1} m_{2} \\sin{\\left(q_{2} \\right)} \\dot{u}_{0}\\end{matrix}\\right]$"
      ],
      "text/plain": [
       "⎡                     2                   2                   2 \n",
       "⎢             l₀⋅m₁⋅u₁ ⋅cos(q₁) + l₀⋅m₂⋅u₁ ⋅cos(q₁) + l₁⋅m₂⋅u₂ ⋅\n",
       "⎢                                                               \n",
       "⎢                                                               \n",
       "⎢-l₀⋅l₁⋅m₂⋅(sin(q₁)⋅sin(q₂) + cos(q₁)⋅cos(q₂))⋅u₂̇ + l₀⋅l₁⋅m₂⋅(-\n",
       "⎢                                                               \n",
       "⎢                                                               \n",
       "⎣               -l₀⋅l₁⋅m₂⋅(sin(q₁)⋅sin(q₂) + cos(q₁)⋅cos(q₂))⋅u₁\n",
       "\n",
       "                                                                \n",
       "cos(q₂) + l₁⋅m₂⋅sin(q₂)⋅u₂̇ - (-l₀⋅m₁⋅sin(q₁) - l₀⋅m₂⋅sin(q₁))⋅u\n",
       "                                                                \n",
       "                                    2   ⎛  2        2   ⎞       \n",
       "sin(q₁)⋅cos(q₂) + sin(q₂)⋅cos(q₁))⋅u₂  - ⎝l₀ ⋅m₁ + l₀ ⋅m₂⎠⋅u₁̇ -\n",
       "                                                                \n",
       "                                                  2     2       \n",
       "̇ + l₀⋅l₁⋅m₂⋅(sin(q₁)⋅cos(q₂) - sin(q₂)⋅cos(q₁))⋅u₁  - l₁ ⋅m₂⋅u₂\n",
       "\n",
       "                                  ⎤\n",
       "₁̇ - (m₀ + m₁ + m₂)⋅u₀̇              ⎥\n",
       "                                  ⎥\n",
       "                                  ⎥\n",
       " (-l₀⋅m₁⋅sin(q₁) - l₀⋅m₂⋅sin(q₁))⋅u₀̇⎥\n",
       "                                  ⎥\n",
       "                                  ⎥\n",
       "̇ + l₁⋅m₂⋅sin(q₂)⋅u₀̇                ⎦"
      ]
     },
     "execution_count": 107,
     "metadata": {},
     "output_type": "execute_result"
    }
   ],
   "source": [
    "frstar"
   ]
  },
  {
   "cell_type": "markdown",
   "metadata": {
    "deletable": true,
    "editable": true
   },
   "source": [
    "The equations of motion are quite long as can been seen below. This is the general nature of most non-simple mutlibody problems. That is why a SymPy is so useful; no more mistakes in algebra, differentiation, or copying hand written equations. Note that `trigsimp` can take quite a while to complete for extremely large expressions. Below we print $\\tilde{M}$ and $\\tilde{f}$ from $\\tilde{M}\\dot{u}=\\tilde{f}$ to show the size of the expressions."
   ]
  },
  {
   "cell_type": "code",
   "execution_count": 108,
   "metadata": {
    "collapsed": false,
    "deletable": true,
    "editable": true,
    "jupyter": {
     "outputs_hidden": false
    }
   },
   "outputs": [
    {
     "data": {
      "text/latex": [
       "$\\displaystyle \\left[\\begin{matrix}m_{0} + m_{1} + m_{2} & - l_{0} \\left(m_{1} + m_{2}\\right) \\sin{\\left(q_{1} \\right)} & - l_{1} m_{2} \\sin{\\left(q_{2} \\right)}\\\\- l_{0} \\left(m_{1} + m_{2}\\right) \\sin{\\left(q_{1} \\right)} & l_{0}^{2} m_{1} + l_{0}^{2} m_{2} & l_{0} l_{1} m_{2} \\cos{\\left(q_{1} - q_{2} \\right)}\\\\- l_{1} m_{2} \\sin{\\left(q_{2} \\right)} & l_{0} l_{1} m_{2} \\cos{\\left(q_{1} - q_{2} \\right)} & l_{1}^{2} m_{2}\\end{matrix}\\right]$"
      ],
      "text/plain": [
       "⎡    m₀ + m₁ + m₂       -l₀⋅(m₁ + m₂)⋅sin(q₁)     -l₁⋅m₂⋅sin(q₂)\n",
       "⎢                                                               \n",
       "⎢                            2        2                         \n",
       "⎢-l₀⋅(m₁ + m₂)⋅sin(q₁)     l₀ ⋅m₁ + l₀ ⋅m₂     l₀⋅l₁⋅m₂⋅cos(q₁ -\n",
       "⎢                                                               \n",
       "⎢                                                       2       \n",
       "⎣   -l₁⋅m₂⋅sin(q₂)      l₀⋅l₁⋅m₂⋅cos(q₁ - q₂)         l₁ ⋅m₂    \n",
       "\n",
       "    ⎤\n",
       "    ⎥\n",
       "    ⎥\n",
       " q₂)⎥\n",
       "    ⎥\n",
       "    ⎥\n",
       "    ⎦"
      ]
     },
     "execution_count": 108,
     "metadata": {},
     "output_type": "execute_result"
    }
   ],
   "source": [
    "sm.trigsimp(kane.mass_matrix)"
   ]
  },
  {
   "cell_type": "markdown",
   "metadata": {
    "deletable": true,
    "editable": true
   },
   "source": [
    "$\\tilde{M}$ is a function of the constant parameters and the configuration."
   ]
  },
  {
   "cell_type": "code",
   "execution_count": 109,
   "metadata": {
    "collapsed": false,
    "deletable": true,
    "editable": true,
    "jupyter": {
     "outputs_hidden": false
    }
   },
   "outputs": [
    {
     "data": {
      "image/png": "[encoded data removed]",
      "text/latex": [
       "$\\displaystyle \\left\\{q_{1}, q_{2}\\right\\}$"
      ],
      "text/plain": [
       "{q₁, q₂}"
      ]
     },
     "execution_count": 109,
     "metadata": {},
     "output_type": "execute_result"
    }
   ],
   "source": [
    "me.find_dynamicsymbols(kane.mass_matrix)"
   ]
  },
  {
   "cell_type": "code",
   "execution_count": 110,
   "metadata": {
    "collapsed": false,
    "deletable": true,
    "editable": true,
    "jupyter": {
     "outputs_hidden": false
    }
   },
   "outputs": [
    {
     "data": {
      "text/latex": [
       "$\\displaystyle \\left[\\begin{matrix}l_{0} m_{1} u_{1}^{2} \\cos{\\left(q_{1} \\right)} + l_{0} m_{2} u_{1}^{2} \\cos{\\left(q_{1} \\right)} + l_{1} m_{2} u_{2}^{2} \\cos{\\left(q_{2} \\right)} + f\\\\- l_{0} \\left(g m_{1} \\cos{\\left(q_{1} \\right)} + g m_{2} \\cos{\\left(q_{1} \\right)} + l_{1} m_{2} u_{2}^{2} \\sin{\\left(q_{1} - q_{2} \\right)}\\right)\\\\l_{1} m_{2} \\left(- g \\cos{\\left(q_{2} \\right)} + l_{0} u_{1}^{2} \\sin{\\left(q_{1} - q_{2} \\right)}\\right)\\end{matrix}\\right]$"
      ],
      "text/plain": [
       "⎡        2                   2                   2            ⎤\n",
       "⎢l₀⋅m₁⋅u₁ ⋅cos(q₁) + l₀⋅m₂⋅u₁ ⋅cos(q₁) + l₁⋅m₂⋅u₂ ⋅cos(q₂) + f⎥\n",
       "⎢                                                             ⎥\n",
       "⎢     ⎛                                      2             ⎞  ⎥\n",
       "⎢ -l₀⋅⎝g⋅m₁⋅cos(q₁) + g⋅m₂⋅cos(q₁) + l₁⋅m₂⋅u₂ ⋅sin(q₁ - q₂)⎠  ⎥\n",
       "⎢                                                             ⎥\n",
       "⎢                ⎛                  2             ⎞           ⎥\n",
       "⎣          l₁⋅m₂⋅⎝-g⋅cos(q₂) + l₀⋅u₁ ⋅sin(q₁ - q₂)⎠           ⎦"
      ]
     },
     "execution_count": 110,
     "metadata": {},
     "output_type": "execute_result"
    }
   ],
   "source": [
    "sm.trigsimp(kane.forcing)"
   ]
  },
  {
   "cell_type": "markdown",
   "metadata": {
    "deletable": true,
    "editable": true
   },
   "source": [
    "$\\tilde{f}$ is a function of the constant parameters, configuration, speeds, and the applied force."
   ]
  },
  {
   "cell_type": "code",
   "execution_count": 98,
   "metadata": {
    "collapsed": false,
    "deletable": true,
    "editable": true,
    "jupyter": {
     "outputs_hidden": false
    },
    "scrolled": true
   },
   "outputs": [
    {
     "data": {
      "image/png": "[encoded data removed]",
      "text/latex": [
       "$\\displaystyle \\left\\{f, q_{1}, u_{1}\\right\\}$"
      ],
      "text/plain": [
       "{f, q₁, u₁}"
      ]
     },
     "execution_count": 98,
     "metadata": {},
     "output_type": "execute_result"
    }
   ],
   "source": [
    "me.find_dynamicsymbols(kane.forcing)"
   ]
  },
  {
   "cell_type": "markdown",
   "metadata": {
    "deletable": true,
    "editable": true
   },
   "source": [
    "Simulation\n",
    "==========\n",
    "\n",
    "Now that the symbolic equations of motion are available we can simulate the pendulum's motion. We will need some more SymPy functionality and several NumPy functions, and most importantly the integration function from SciPy, `odeint`."
   ]
  },
  {
   "cell_type": "code",
   "execution_count": 17,
   "metadata": {
    "collapsed": false,
    "deletable": true,
    "editable": true,
    "jupyter": {
     "outputs_hidden": false
    }
   },
   "outputs": [],
   "source": [
    "import numpy as np\n",
    "from numpy.linalg import solve\n",
    "from scipy.integrate import odeint"
   ]
  },
  {
   "cell_type": "markdown",
   "metadata": {
    "deletable": true,
    "editable": true
   },
   "source": [
    "First, define some numeric values for all of the constant parameters in the problem."
   ]
  },
  {
   "cell_type": "code",
   "execution_count": 18,
   "metadata": {
    "collapsed": false,
    "deletable": true,
    "editable": true,
    "jupyter": {
     "outputs_hidden": false
    }
   },
   "outputs": [],
   "source": [
    "arm_length = 1. / n                          # The maximum length of the pendulum is 1 meter\n",
    "bob_mass = 0.01 / n                          # The maximum mass of the bobs is 10 grams\n",
    "parameters = [g, m[0]]                       # Parameter definitions starting with gravity and the first bob\n",
    "parameter_vals = [9.81, 0.01 / n]            # Numerical values for the first two\n",
    "for i in range(n):                           # Then each mass and length\n",
    "    parameters += [l[i], m[i + 1]]            \n",
    "    parameter_vals += [arm_length, bob_mass]"
   ]
  },
  {
   "cell_type": "code",
   "execution_count": 19,
   "metadata": {},
   "outputs": [
    {
     "data": {
      "image/png": "[encoded data removed]",
      "text/latex": [
       "$\\displaystyle \\left( \\left[ g, \\  m_{0}, \\  l_{0}, \\  m_{1}\\right], \\  \\left[ 9.81, \\  0.01, \\  1.0, \\  0.01\\right]\\right)$"
      ],
      "text/plain": [
       "([g, m₀, l₀, m₁], [9.81, 0.01, 1.0, 0.01])"
      ]
     },
     "execution_count": 19,
     "metadata": {},
     "output_type": "execute_result"
    }
   ],
   "source": [
    "parameters, parameter_vals"
   ]
  },
  {
   "cell_type": "markdown",
   "metadata": {
    "deletable": true,
    "editable": true
   },
   "source": [
    "Mathematica has a really nice `NDSolve` function for quickly integrating their symbolic differential equations. We make use of SymPy's lambdify function to do something similar, i.e. to create functions that will evaluate the \"full\" mass matrix, $M$, and \"full\" forcing vector, $f$ from $M\\dot{x} = f(x, r, t)$ as a NumPy function."
   ]
  },
  {
   "cell_type": "code",
   "execution_count": 20,
   "metadata": {
    "collapsed": false,
    "deletable": true,
    "editable": true,
    "jupyter": {
     "outputs_hidden": false
    }
   },
   "outputs": [],
   "source": [
    "dynamic = q + u    # Make a list of the states\n",
    "dynamic.append(f)  # Add the input force\n",
    "\n",
    "M_func = sm.lambdify(dynamic + parameters, kane.mass_matrix_full) # Create a callable function to evaluate the mass matrix \n",
    "f_func = sm.lambdify(dynamic + parameters, kane.forcing_full)     # Create a callable function to evaluate the forcing vector "
   ]
  },
  {
   "cell_type": "markdown",
   "metadata": {
    "deletable": true,
    "editable": true
   },
   "source": [
    "To integrate the ODE's we need to define a function that returns the derivatives of the states given the current state and time."
   ]
  },
  {
   "cell_type": "code",
   "execution_count": 21,
   "metadata": {
    "collapsed": false,
    "deletable": true,
    "editable": true,
    "jupyter": {
     "outputs_hidden": false
    }
   },
   "outputs": [],
   "source": [
    "def right_hand_side(x, t, args):\n",
    "    \"\"\"Returns the derivatives of the states.\n",
    "\n",
    "    Parameters\n",
    "    ----------\n",
    "    x : ndarray, shape(2 * (n + 1))\n",
    "        The current state vector.\n",
    "    t : float\n",
    "        The current time.\n",
    "    args : ndarray\n",
    "        The constants.\n",
    "\n",
    "    Returns\n",
    "    -------\n",
    "    dx : ndarray, shape(2 * (n + 1))\n",
    "        The derivative of the state.\n",
    "    \n",
    "    \"\"\"\n",
    "    r = 0.0                                  # The input force is always zero     \n",
    "    arguments = np.hstack((x, r, args))      # States, input, and parameters\n",
    "    dx = np.array(solve(M_func(*arguments),  # Solving for the derivatives\n",
    "                  f_func(*arguments))).T[0]\n",
    "    \n",
    "    return dx"
   ]
  },
  {
   "cell_type": "markdown",
   "metadata": {
    "deletable": true,
    "editable": true
   },
   "source": [
    "Now that we have the right hand side function, the initial conditions are set such that the pendulum is in the vertical equilibrium and a slight initial rate is set for each speed to ensure the pendulum falls. The equations can then be integrated with SciPy's `odeint` function given a time series."
   ]
  },
  {
   "cell_type": "code",
   "execution_count": 22,
   "metadata": {
    "deletable": true,
    "editable": true
   },
   "outputs": [],
   "source": [
    "# x0 = np.hstack((0.0,                              # q0\n",
    "#                 np.pi / 2 * np.ones(len(q) - 1),  # q1...qn+1\n",
    "#                 1e-3 * np.ones(len(u))))          # u0...un+1\n",
    "\n",
    "x0 = np.hstack((0.0,                              # q0\n",
    "                 np.zeros(len(q) - 1),  # q1...qn+1\n",
    "                1e-3 * np.ones(len(u))))   "
   ]
  },
  {
   "cell_type": "code",
   "execution_count": 23,
   "metadata": {
    "deletable": true,
    "editable": true
   },
   "outputs": [],
   "source": [
    "t = np.linspace(0.0, 10.0, num=500)  # Time vector"
   ]
  },
  {
   "cell_type": "code",
   "execution_count": 24,
   "metadata": {
    "collapsed": false,
    "deletable": true,
    "editable": true,
    "jupyter": {
     "outputs_hidden": false
    }
   },
   "outputs": [],
   "source": [
    "x = odeint(right_hand_side, x0, t, args=(parameter_vals,))  # Numerical integration"
   ]
  },
  {
   "cell_type": "markdown",
   "metadata": {
    "deletable": true,
    "editable": true
   },
   "source": [
    "Plotting\n",
    "========\n",
    "\n",
    "The results of the simulation can be plotted with matplotlib. First, load the plotting functionality."
   ]
  },
  {
   "cell_type": "code",
   "execution_count": 25,
   "metadata": {
    "deletable": true,
    "editable": true
   },
   "outputs": [],
   "source": [
    "import matplotlib.pyplot as plt"
   ]
  },
  {
   "cell_type": "code",
   "execution_count": 26,
   "metadata": {
    "deletable": true,
    "editable": true
   },
   "outputs": [],
   "source": [
    "%matplotlib inline"
   ]
  },
  {
   "cell_type": "code",
   "execution_count": 27,
   "metadata": {
    "collapsed": false,
    "deletable": true,
    "editable": true,
    "jupyter": {
     "outputs_hidden": false
    }
   },
   "outputs": [],
   "source": [
    "from IPython.core.pylabtools import figsize\n",
    "figsize(8.0, 6.0)"
   ]
  },
  {
   "cell_type": "markdown",
   "metadata": {
    "deletable": true,
    "editable": true
   },
   "source": [
    "The coordinate trajectories are plotted below."
   ]
  },
  {
   "cell_type": "code",
   "execution_count": 28,
   "metadata": {
    "collapsed": false,
    "deletable": true,
    "editable": true,
    "jupyter": {
     "outputs_hidden": false
    }
   },
   "outputs": [
    {
     "data": {
      "image/png": "[encoded data removed]",
      "text/plain": [
       "<Figure size 800x600 with 1 Axes>"
      ]
     },
     "metadata": {},
     "output_type": "display_data"
    }
   ],
   "source": [
    "lines = plt.plot(t, x[:, :x.shape[1] // 2])\n",
    "lab = plt.xlabel('Time [sec]')\n",
    "leg = plt.legend(dynamic[:x.shape[1] // 2])"
   ]
  },
  {
   "cell_type": "markdown",
   "metadata": {
    "deletable": true,
    "editable": true
   },
   "source": [
    "And the generalized speed trajectories."
   ]
  },
  {
   "cell_type": "code",
   "execution_count": 29,
   "metadata": {
    "collapsed": false,
    "deletable": true,
    "editable": true,
    "jupyter": {
     "outputs_hidden": false
    }
   },
   "outputs": [
    {
     "data": {
      "image/png": "[encoded data removed]",
      "text/plain": [
       "<Figure size 800x600 with 1 Axes>"
      ]
     },
     "metadata": {},
     "output_type": "display_data"
    }
   ],
   "source": [
    "lines = plt.plot(t, x[:, x.shape[1] // 2:])\n",
    "lab = plt.xlabel('Time [sec]')\n",
    "leg = plt.legend(dynamic[x.shape[1] // 2:])"
   ]
  },
  {
   "cell_type": "markdown",
   "metadata": {
    "deletable": true,
    "editable": true
   },
   "source": [
    "Animation\n",
    "=========\n",
    "\n",
    "matplotlib now includes very nice animation functions for animating matplotlib plots. First we import the necessary functions for creating the animation."
   ]
  },
  {
   "cell_type": "code",
   "execution_count": 30,
   "metadata": {
    "collapsed": false,
    "deletable": true,
    "editable": true,
    "jupyter": {
     "outputs_hidden": false
    }
   },
   "outputs": [],
   "source": [
    "from matplotlib import animation\n",
    "from matplotlib.patches import Rectangle"
   ]
  },
  {
   "cell_type": "markdown",
   "metadata": {
    "deletable": true,
    "editable": true
   },
   "source": [
    "The following function was modeled from Jake Vanderplas's [post on matplotlib animations](http://jakevdp.github.com/blog/2012/08/18/matplotlib-animation-tutorial/). The default animation writer is used (typically ffmpeg), you can change it by adding `writer` argument to `anim.save` call."
   ]
  },
  {
   "cell_type": "code",
   "execution_count": 31,
   "metadata": {
    "collapsed": false,
    "deletable": true,
    "editable": true,
    "jupyter": {
     "outputs_hidden": false
    }
   },
   "outputs": [],
   "source": [
    "def animate_pendulum(t, states, length, filename=None):\n",
    "    \"\"\"Animates the n-pendulum and optionally saves it to file.\n",
    "\n",
    "    Parameters\n",
    "    ----------\n",
    "    t : ndarray, shape(m)\n",
    "        Time array.\n",
    "    states: ndarray, shape(m,p)\n",
    "        State time history.\n",
    "    length: float\n",
    "        The length of the pendulum links.\n",
    "    filename: string or None, optional\n",
    "        If true a movie file will be saved of the animation. This may take some time.\n",
    "\n",
    "    Returns\n",
    "    -------\n",
    "    fig : matplotlib.Figure\n",
    "        The figure.\n",
    "    anim : matplotlib.FuncAnimation\n",
    "        The animation.\n",
    "\n",
    "    \"\"\"\n",
    "    # the number of pendulum bobs\n",
    "    numpoints = states.shape[1] // 2\n",
    "\n",
    "    # first set up the figure, the axis, and the plot elements we want to animate\n",
    "    fig = plt.figure()\n",
    "    \n",
    "    # some dimesions\n",
    "    cart_width = 0.4\n",
    "    cart_height = 0.2\n",
    "    \n",
    "    # set the limits based on the motion\n",
    "    xmin = np.around(states[:, 0].min() - cart_width / 2.0, 1)\n",
    "    xmax = np.around(states[:, 0].max() + cart_width / 2.0, 1)\n",
    "    \n",
    "    # create the axes\n",
    "    ax = plt.axes(xlim=(xmin, xmax), ylim=(-1.1, 1.1), aspect='equal')\n",
    "    \n",
    "    # display the current time\n",
    "    time_text = ax.text(0.04, 0.9, '', transform=ax.transAxes)\n",
    "    \n",
    "    # create a rectangular cart\n",
    "    rect = Rectangle([states[0, 0] - cart_width / 2.0, -cart_height / 2],\n",
    "                     cart_width, cart_height, fill=True, color='red',\n",
    "                     ec='black')\n",
    "    ax.add_patch(rect)\n",
    "    \n",
    "    # blank line for the pendulum\n",
    "    line, = ax.plot([], [], lw=2, marker='o', markersize=6)\n",
    "\n",
    "    # initialization function: plot the background of each frame\n",
    "    def init():\n",
    "        time_text.set_text('')\n",
    "        rect.set_xy((0.0, 0.0))\n",
    "        line.set_data([], [])\n",
    "        return time_text, rect, line,\n",
    "\n",
    "    # animation function: update the objects\n",
    "    def animate(i):\n",
    "        time_text.set_text('time = {:2.2f}'.format(t[i]))\n",
    "        rect.set_xy((states[i, 0] - cart_width / 2.0, -cart_height / 2))\n",
    "        x = np.hstack((states[i, 0], np.zeros((numpoints - 1))))\n",
    "        y = np.zeros((numpoints))\n",
    "        for j in np.arange(1, numpoints):\n",
    "            x[j] = x[j - 1] + length * np.cos(states[i, j])\n",
    "            y[j] = y[j - 1] + length * np.sin(states[i, j])\n",
    "        line.set_data(x, y)\n",
    "        return time_text, rect, line,\n",
    "\n",
    "    # call the animator function\n",
    "    anim = animation.FuncAnimation(fig, animate, frames=len(t), init_func=init,\n",
    "            interval=t[-1] / len(t) * 1000, blit=True, repeat=False)\n",
    "    \n",
    "    # save the animation if a filename is given\n",
    "    if filename is not None:\n",
    "        anim.save(filename, fps=30, codec='libx264')"
   ]
  },
  {
   "cell_type": "markdown",
   "metadata": {
    "deletable": true,
    "editable": true
   },
   "source": [
    "Now we can create the animation of the pendulum. This animation will show the open loop dynamics."
   ]
  },
  {
   "cell_type": "code",
   "execution_count": 32,
   "metadata": {
    "collapsed": false,
    "deletable": true,
    "editable": true,
    "jupyter": {
     "outputs_hidden": false
    },
    "scrolled": true
   },
   "outputs": [
    {
     "name": "stderr",
     "output_type": "stream",
     "text": [
      "MovieWriter ffmpeg unavailable; using Pillow instead.\n"
     ]
    },
    {
     "data": {
      "image/png": "[encoded data removed]",
      "text/plain": [
       "<Figure size 800x600 with 1 Axes>"
      ]
     },
     "metadata": {},
     "output_type": "display_data"
    }
   ],
   "source": [
    "animate_pendulum(t, x, arm_length, filename=\"open-loop.gif\")"
   ]
  },
  {
   "cell_type": "code",
   "execution_count": 33,
   "metadata": {
    "collapsed": false,
    "deletable": true,
    "editable": true,
    "jupyter": {
     "outputs_hidden": false
    }
   },
   "outputs": [
    {
     "data": {
      "text/html": [
       "\n",
       "<video width=\"640\" height=\"480\" controls>\n",
       "  <source src=\"open-loop.gif\" type=\"video/mp4\">\n",
       "Your browser does not support the video tag, check out the YouTube version instead: http://youtu.be/Nj3_npq7MZI.\n",
       "</video>\n"
      ],
      "text/plain": [
       "<IPython.core.display.HTML object>"
      ]
     },
     "execution_count": 33,
     "metadata": {},
     "output_type": "execute_result"
    }
   ],
   "source": [
    "from IPython.display import HTML\n",
    "html = \\\n",
    "\"\"\"\n",
    "<video width=\"640\" height=\"480\" controls>\n",
    "  <source src=\"open-loop.gif\" type=\"video/mp4\">\n",
    "Your browser does not support the video tag, check out the YouTube version instead: http://youtu.be/Nj3_npq7MZI.\n",
    "</video>\n",
    "\"\"\"\n",
    "HTML(html)"
   ]
  },
  {
   "cell_type": "markdown",
   "metadata": {
    "deletable": true,
    "editable": true
   },
   "source": [
    "Controller Design\n",
    "=================\n",
    "\n",
    "The n-link pendulum can be balanced such that all of the links are inverted above the cart by applying the correct lateral force to the cart. We can design a full state feedback controller based from a linear model of the pendulum about its upright equilibrium point. We'll start by specifying the equilibrium point and parameters in dictionaries. We make sure to use SymPy types in the equilibrium point to ensure proper cancelations in the linearization."
   ]
  },
  {
   "cell_type": "code",
   "execution_count": 34,
   "metadata": {
    "collapsed": false,
    "deletable": true,
    "editable": true,
    "jupyter": {
     "outputs_hidden": false
    }
   },
   "outputs": [
    {
     "data": {
      "image/png": "[encoded data removed]",
      "text/latex": [
       "$\\displaystyle \\left\\{ q_{0} : 0, \\  q_{1} : \\frac{\\pi}{2}, \\  u_{0} : 0, \\  u_{1} : 0\\right\\}$"
      ],
      "text/plain": [
       "⎧           π              ⎫\n",
       "⎨q₀: 0, q₁: ─, u₀: 0, u₁: 0⎬\n",
       "⎩           2              ⎭"
      ]
     },
     "execution_count": 34,
     "metadata": {},
     "output_type": "execute_result"
    }
   ],
   "source": [
    "equilibrium_point = [sm.S(0)] + [sm.pi / 2] * (len(q) - 1) + [sm.S(0)] * len(u)                           \n",
    "equilibrium_dict = dict(zip(q + u, equilibrium_point))\n",
    "equilibrium_dict"
   ]
  },
  {
   "cell_type": "markdown",
   "metadata": {
    "deletable": true,
    "editable": true
   },
   "source": [
    "The `KanesMethod` class has method that linearizes the forcing vector about generic state and input perturbation vectors. The equilibrium point and numerical constants can then be substituted in to give the linear system in this form: $M\\dot{x}=F_Ax+F_Br$. The state and input matrices, $A$ and $B$, can then be computed by left side multiplication by the inverse of the mass matrix: $A=M^{-1}F_A$ and $B=M^{-1}F_B$."
   ]
  },
  {
   "cell_type": "code",
   "execution_count": 35,
   "metadata": {
    "collapsed": false,
    "deletable": true,
    "editable": true,
    "jupyter": {
     "outputs_hidden": false
    }
   },
   "outputs": [],
   "source": [
    "M, F_A, F_B, r = kane.linearize(new_method=True, op_point=equilibrium_dict)"
   ]
  },
  {
   "cell_type": "code",
   "execution_count": 36,
   "metadata": {
    "collapsed": false,
    "deletable": true,
    "editable": true,
    "jupyter": {
     "outputs_hidden": false
    }
   },
   "outputs": [
    {
     "data": {
      "text/latex": [
       "$\\displaystyle \\left[\\begin{matrix}1 & 0 & 0 & 0\\\\0 & 1 & 0 & 0\\\\0 & 0 & - m_{0} - m_{1} & l_{0} m_{1}\\\\0 & 0 & l_{0} m_{1} & - l_{0}^{2} m_{1}\\end{matrix}\\right]$"
      ],
      "text/plain": [
       "⎡1  0     0         0   ⎤\n",
       "⎢                       ⎥\n",
       "⎢0  1     0         0   ⎥\n",
       "⎢                       ⎥\n",
       "⎢0  0  -m₀ - m₁   l₀⋅m₁ ⎥\n",
       "⎢                       ⎥\n",
       "⎢                   2   ⎥\n",
       "⎣0  0   l₀⋅m₁    -l₀ ⋅m₁⎦"
      ]
     },
     "execution_count": 36,
     "metadata": {},
     "output_type": "execute_result"
    }
   ],
   "source": [
    "sm.simplify(M)"
   ]
  },
  {
   "cell_type": "code",
   "execution_count": 37,
   "metadata": {
    "collapsed": false,
    "deletable": true,
    "editable": true,
    "jupyter": {
     "outputs_hidden": false
    }
   },
   "outputs": [
    {
     "data": {
      "text/latex": [
       "$\\displaystyle \\left[\\begin{matrix}0 & 0 & 1 & 0\\\\0 & 0 & 0 & 1\\\\0 & 0 & 0 & 0\\\\0 & - g l_{0} m_{1} & 0 & 0\\end{matrix}\\right]$"
      ],
      "text/plain": [
       "⎡0     0      1  0⎤\n",
       "⎢                 ⎥\n",
       "⎢0     0      0  1⎥\n",
       "⎢                 ⎥\n",
       "⎢0     0      0  0⎥\n",
       "⎢                 ⎥\n",
       "⎣0  -g⋅l₀⋅m₁  0  0⎦"
      ]
     },
     "execution_count": 37,
     "metadata": {},
     "output_type": "execute_result"
    }
   ],
   "source": [
    "sm.simplify(F_A)"
   ]
  },
  {
   "cell_type": "code",
   "execution_count": 38,
   "metadata": {
    "collapsed": false,
    "deletable": true,
    "editable": true,
    "jupyter": {
     "outputs_hidden": false
    }
   },
   "outputs": [
    {
     "data": {
      "text/latex": [
       "$\\displaystyle \\left[\\begin{matrix}0\\\\0\\\\-1\\\\0\\end{matrix}\\right]$"
      ],
      "text/plain": [
       "⎡0 ⎤\n",
       "⎢  ⎥\n",
       "⎢0 ⎥\n",
       "⎢  ⎥\n",
       "⎢-1⎥\n",
       "⎢  ⎥\n",
       "⎣0 ⎦"
      ]
     },
     "execution_count": 38,
     "metadata": {},
     "output_type": "execute_result"
    }
   ],
   "source": [
    "sm.simplify(F_B)"
   ]
  },
  {
   "cell_type": "markdown",
   "metadata": {
    "deletable": true,
    "editable": true
   },
   "source": [
    "Now the numerical $A$ and $B$ matrices can be formed. First substitute numerical parameter values into $M$, $F_A$, and $F_B$."
   ]
  },
  {
   "cell_type": "code",
   "execution_count": 39,
   "metadata": {
    "collapsed": false,
    "deletable": true,
    "editable": true,
    "jupyter": {
     "outputs_hidden": false
    }
   },
   "outputs": [
    {
     "data": {
      "image/png": "[encoded data removed]",
      "text/latex": [
       "$\\displaystyle \\left\\{ g : 9.81, \\  l_{0} : 1.0, \\  m_{0} : 0.01, \\  m_{1} : 0.01\\right\\}$"
      ],
      "text/plain": [
       "{g: 9.81, l₀: 1.0, m₀: 0.01, m₁: 0.01}"
      ]
     },
     "execution_count": 39,
     "metadata": {},
     "output_type": "execute_result"
    }
   ],
   "source": [
    "parameter_dict = dict(zip(parameters, parameter_vals))\n",
    "parameter_dict"
   ]
  },
  {
   "cell_type": "code",
   "execution_count": 40,
   "metadata": {
    "deletable": true,
    "editable": true
   },
   "outputs": [],
   "source": [
    "M_num = sm.matrix2numpy(M.subs(parameter_dict), dtype=float)\n",
    "F_A_num = sm.matrix2numpy(F_A.subs(parameter_dict), dtype=float)\n",
    "F_B_num = sm.matrix2numpy(F_B.subs(parameter_dict), dtype=float)"
   ]
  },
  {
   "cell_type": "code",
   "execution_count": 41,
   "metadata": {
    "collapsed": false,
    "deletable": true,
    "editable": true,
    "jupyter": {
     "outputs_hidden": false
    }
   },
   "outputs": [],
   "source": [
    "A = np.linalg.solve(M_num, F_A_num)\n",
    "B = np.linalg.solve(M_num ,F_B_num)"
   ]
  },
  {
   "cell_type": "code",
   "execution_count": 42,
   "metadata": {
    "collapsed": false,
    "deletable": true,
    "editable": true,
    "jupyter": {
     "outputs_hidden": false
    }
   },
   "outputs": [
    {
     "name": "stdout",
     "output_type": "stream",
     "text": [
      "[[ 0.    0.    1.    0.  ]\n",
      " [ 0.    0.    0.    1.  ]\n",
      " [-0.    9.81 -0.   -0.  ]\n",
      " [-0.   19.62 -0.   -0.  ]]\n"
     ]
    }
   ],
   "source": [
    "print(A)"
   ]
  },
  {
   "cell_type": "code",
   "execution_count": 43,
   "metadata": {
    "collapsed": false,
    "deletable": true,
    "editable": true,
    "jupyter": {
     "outputs_hidden": false
    }
   },
   "outputs": [
    {
     "name": "stdout",
     "output_type": "stream",
     "text": [
      "[[  0.]\n",
      " [  0.]\n",
      " [100.]\n",
      " [100.]]\n"
     ]
    }
   ],
   "source": [
    "print(B)"
   ]
  },
  {
   "cell_type": "markdown",
   "metadata": {
    "deletable": true,
    "editable": true
   },
   "source": [
    "Also convert `equilibrium_point` to a numeric array:"
   ]
  },
  {
   "cell_type": "code",
   "execution_count": 44,
   "metadata": {
    "collapsed": false,
    "deletable": true,
    "editable": true,
    "jupyter": {
     "outputs_hidden": false
    }
   },
   "outputs": [],
   "source": [
    "equilibrium_point = np.asarray([x.evalf() for x in equilibrium_point], dtype=float)"
   ]
  },
  {
   "cell_type": "markdown",
   "metadata": {
    "deletable": true,
    "editable": true
   },
   "source": [
    "Now that we have a linear system, the SciPy package can be used to design an optimal controller for the system."
   ]
  },
  {
   "cell_type": "code",
   "execution_count": 45,
   "metadata": {
    "collapsed": false,
    "deletable": true,
    "editable": true,
    "jupyter": {
     "outputs_hidden": false
    }
   },
   "outputs": [],
   "source": [
    "from numpy.linalg import matrix_rank\n",
    "from scipy.linalg import solve_continuous_are"
   ]
  },
  {
   "cell_type": "markdown",
   "metadata": {
    "deletable": true,
    "editable": true
   },
   "source": [
    "First we can check to see if the system is, in fact, controllable. The rank of the controllability matrix must be equal to the number of rows in $A$, but the `matrix_rank` algorithm is numerically ill conditioned and for certain values of $n$ this will fail, as seen below for $n=5$. Nevertheless, the system is controllable, no matter the number of links."
   ]
  },
  {
   "cell_type": "code",
   "execution_count": 46,
   "metadata": {
    "collapsed": false,
    "jupyter": {
     "outputs_hidden": false
    }
   },
   "outputs": [],
   "source": [
    "def controllable(a, b):\n",
    "    \"\"\"Returns true if the system is controllable and false if not.\n",
    "    Parameters\n",
    "    ----------\n",
    "    a : array_like, shape(n,n)\n",
    "        The state matrix.\n",
    "    b : array_like, shape(n,r)\n",
    "        The input matrix.\n",
    "    Returns\n",
    "    -------\n",
    "    controllable : boolean\n",
    "    \"\"\"\n",
    "    a = np.matrix(a)\n",
    "    b = np.matrix(b)\n",
    "    n = a.shape[0]\n",
    "    controllability_matrix = []\n",
    "    for i in range(n):\n",
    "        controllability_matrix.append(a ** i * b)\n",
    "    controllability_matrix = np.hstack(controllability_matrix)\n",
    "\n",
    "    return np.linalg.matrix_rank(controllability_matrix) == n"
   ]
  },
  {
   "cell_type": "code",
   "execution_count": 47,
   "metadata": {
    "collapsed": false,
    "deletable": true,
    "editable": true,
    "jupyter": {
     "outputs_hidden": false
    }
   },
   "outputs": [
    {
     "data": {
      "text/plain": [
       "True"
      ]
     },
     "execution_count": 47,
     "metadata": {},
     "output_type": "execute_result"
    }
   ],
   "source": [
    "controllable(A, B)"
   ]
  },
  {
   "cell_type": "markdown",
   "metadata": {
    "deletable": true,
    "editable": true
   },
   "source": [
    "So now we can compute the optimal gains with a linear quadratic regulator. I chose identity matrices for the weightings for simplicity."
   ]
  },
  {
   "cell_type": "code",
   "execution_count": 69,
   "metadata": {
    "collapsed": false,
    "deletable": true,
    "editable": true,
    "jupyter": {
     "outputs_hidden": false
    }
   },
   "outputs": [
    {
     "data": {
      "text/plain": [
       "array([[-0.04472136,  0.7944887 , -0.08634176,  0.22416537]])"
      ]
     },
     "execution_count": 69,
     "metadata": {},
     "output_type": "execute_result"
    }
   ],
   "source": [
    "Q = np.eye(A.shape[0])\n",
    "R = np.eye(B.shape[1])\n",
    "R = R * 500\n",
    "S = solve_continuous_are(A, B, Q, R);\n",
    "K = np.dot(np.dot(np.linalg.inv(R), B.T),  S)\n",
    "K"
   ]
  },
  {
   "cell_type": "markdown",
   "metadata": {
    "deletable": true,
    "editable": true
   },
   "source": [
    "The gains can now be used to define the required input during simulation to stabilize the system. The input $r$ is simply the gain vector multiplied by the error in the state vector from the equilibrium point, $r(t)=K(x_{eq} - x(t))$."
   ]
  },
  {
   "cell_type": "code",
   "execution_count": 70,
   "metadata": {
    "collapsed": false,
    "deletable": true,
    "editable": true,
    "jupyter": {
     "outputs_hidden": false
    }
   },
   "outputs": [],
   "source": [
    "\n",
    "def right_hand_side(x, t, args):\n",
    "    \"\"\"Returns the derivatives of the states.\n",
    "\n",
    "    Parameters\n",
    "    ----------\n",
    "    x : ndarray, shape(2 * (n + 1))\n",
    "        The current state vector.\n",
    "    t : float\n",
    "        The current time.\n",
    "    args : ndarray\n",
    "        The constants.\n",
    "\n",
    "    Returns\n",
    "    -------\n",
    "    dx : ndarray, shape(2 * (n + 1))\n",
    "        The derivative of the state.\n",
    "    \n",
    "    \"\"\"\n",
    "    r = np.dot(K, equilibrium_point - x)    # The controller\n",
    "    arguments = np.hstack((x, r, args))     # States, input, and parameters\n",
    "    dx = np.array(solve(M_func(*arguments), # Solving for the derivatives\n",
    "                        f_func(*arguments))).T[0]\n",
    "    \n",
    "    return dx"
   ]
  },
  {
   "cell_type": "markdown",
   "metadata": {
    "deletable": true,
    "editable": true
   },
   "source": [
    "Now we can simulate and animate the system to see if the controller works."
   ]
  },
  {
   "cell_type": "code",
   "execution_count": 77,
   "metadata": {
    "collapsed": false,
    "deletable": true,
    "editable": true,
    "jupyter": {
     "outputs_hidden": false
    }
   },
   "outputs": [],
   "source": [
    "x0 = np.hstack((0,\n",
    "                np.pi / 2 * np.ones(len(q) - 1) - 0.3,\n",
    "                1 * np.zeros(len(u))))\n",
    "t = np.linspace(0.0, 10.0, num=500)\n",
    "x = odeint(right_hand_side, x0, t, args=(parameter_vals,))"
   ]
  },
  {
   "cell_type": "markdown",
   "metadata": {},
   "source": [
    "Control input of the system: r = np.dot(K, equilibrium_point - x)"
   ]
  },
  {
   "cell_type": "markdown",
   "metadata": {
    "deletable": true,
    "editable": true
   },
   "source": [
    "The plots show that we seem to have a stable system."
   ]
  },
  {
   "cell_type": "code",
   "execution_count": 78,
   "metadata": {
    "collapsed": false,
    "deletable": true,
    "editable": true,
    "jupyter": {
     "outputs_hidden": false
    }
   },
   "outputs": [
    {
     "data": {
      "image/png": "[encoded data removed]",
      "text/plain": [
       "<Figure size 800x600 with 1 Axes>"
      ]
     },
     "metadata": {},
     "output_type": "display_data"
    }
   ],
   "source": [
    "lines = plt.plot(t, x[:, :x.shape[1] // 2])\n",
    "lab = plt.xlabel('Time [sec]')\n",
    "leg = plt.legend(dynamic[:x.shape[1] // 2])"
   ]
  },
  {
   "cell_type": "code",
   "execution_count": 79,
   "metadata": {
    "collapsed": false,
    "deletable": true,
    "editable": true,
    "jupyter": {
     "outputs_hidden": false
    }
   },
   "outputs": [
    {
     "data": {
      "image/png": "[encoded data removed]",
      "text/plain": [
       "<Figure size 800x600 with 1 Axes>"
      ]
     },
     "metadata": {},
     "output_type": "display_data"
    }
   ],
   "source": [
    "lines = plt.plot(t, x[:, x.shape[1] // 2:])\n",
    "lab = plt.xlabel('Time [sec]')\n",
    "leg = plt.legend(dynamic[x.shape[1] // 2:])"
   ]
  },
  {
   "cell_type": "code",
   "execution_count": 80,
   "metadata": {
    "scrolled": true
   },
   "outputs": [
    {
     "data": {
      "text/plain": [
       "[array([0.23834661]),\n",
       " array([0.20362237]),\n",
       " array([0.17226993]),\n",
       " array([0.14390633]),\n",
       " array([0.11830931]),\n",
       " array([0.09534092]),\n",
       " array([0.07489502]),\n",
       " array([0.05686378]),\n",
       " array([0.04111953]),\n",
       " array([0.02750845]),\n",
       " array([0.01585291]),\n",
       " array([0.00595889]),\n",
       " array([-0.00237443]),\n",
       " array([-0.00934517]),\n",
       " array([-0.01514096]),\n",
       " array([-0.01993342]),\n",
       " array([-0.02387512]),\n",
       " array([-0.02709856]),\n",
       " array([-0.02971661]),\n",
       " array([-0.03182415]),\n",
       " array([-0.03350005]),\n",
       " array([-0.03480951]),\n",
       " array([-0.03580625]),\n",
       " array([-0.0365346]),\n",
       " array([-0.03703121]),\n",
       " array([-0.03732666]),\n",
       " array([-0.03744662]),\n",
       " array([-0.03741292]),\n",
       " array([-0.03724431]),\n",
       " array([-0.03695708]),\n",
       " array([-0.03656559]),\n",
       " array([-0.03608258]),\n",
       " array([-0.03551949]),\n",
       " array([-0.03488667]),\n",
       " array([-0.0341935]),\n",
       " array([-0.03344856]),\n",
       " array([-0.0326597]),\n",
       " array([-0.03183411]),\n",
       " array([-0.03097835]),\n",
       " array([-0.03009845]),\n",
       " array([-0.0291999]),\n",
       " array([-0.02828769]),\n",
       " array([-0.02736633]),\n",
       " array([-0.02643993]),\n",
       " array([-0.02551214]),\n",
       " array([-0.02458625]),\n",
       " array([-0.02366518]),\n",
       " array([-0.02275149]),\n",
       " array([-0.02184746]),\n",
       " array([-0.02095503]),\n",
       " array([-0.02007593]),\n",
       " array([-0.01921159]),\n",
       " array([-0.01836324]),\n",
       " array([-0.01753192]),\n",
       " array([-0.01671847]),\n",
       " array([-0.01592356]),\n",
       " array([-0.01514773]),\n",
       " array([-0.01439139]),\n",
       " array([-0.01365481]),\n",
       " array([-0.01293819]),\n",
       " array([-0.01224163]),\n",
       " array([-0.01156513]),\n",
       " array([-0.01090867]),\n",
       " array([-0.01027212]),\n",
       " array([-0.00965534]),\n",
       " array([-0.00905812]),\n",
       " array([-0.00848024]),\n",
       " array([-0.00792142]),\n",
       " array([-0.00738139]),\n",
       " array([-0.00685981]),\n",
       " array([-0.00635638]),\n",
       " array([-0.00587074]),\n",
       " array([-0.00540253]),\n",
       " array([-0.0049514]),\n",
       " array([-0.00451698]),\n",
       " array([-0.00409889]),\n",
       " array([-0.00369675]),\n",
       " array([-0.00331018]),\n",
       " array([-0.00293881]),\n",
       " array([-0.00258225]),\n",
       " array([-0.00224012]),\n",
       " array([-0.00191204]),\n",
       " array([-0.00159765]),\n",
       " array([-0.00129657]),\n",
       " array([-0.00100844]),\n",
       " array([-0.00073288]),\n",
       " array([-0.00046955]),\n",
       " array([-0.00021808]),\n",
       " array([2.18649687e-05]),\n",
       " array([0.00025064]),\n",
       " array([0.00046857]),\n",
       " array([0.000676]),\n",
       " array([0.00087326]),\n",
       " array([0.00106066]),\n",
       " array([0.00123851]),\n",
       " array([0.00140714]),\n",
       " array([0.00156683]),\n",
       " array([0.00171789]),\n",
       " array([0.00186061]),\n",
       " array([0.00199527]),\n",
       " array([0.00212215]),\n",
       " array([0.00224152]),\n",
       " array([0.00235365]),\n",
       " array([0.0024588]),\n",
       " array([0.00255721]),\n",
       " array([0.00264913]),\n",
       " array([0.00273481]),\n",
       " array([0.00281449]),\n",
       " array([0.00288838]),\n",
       " array([0.00295671]),\n",
       " array([0.00301969]),\n",
       " array([0.00307755]),\n",
       " array([0.00313047]),\n",
       " array([0.00317867]),\n",
       " array([0.00322232]),\n",
       " array([0.00326163]),\n",
       " array([0.00329678]),\n",
       " array([0.00332793]),\n",
       " array([0.00335527]),\n",
       " array([0.00337895]),\n",
       " array([0.00339914]),\n",
       " array([0.00341599]),\n",
       " array([0.00342967]),\n",
       " array([0.0034403]),\n",
       " array([0.00344803]),\n",
       " array([0.00345301]),\n",
       " array([0.00345536]),\n",
       " array([0.0034552]),\n",
       " array([0.00345268]),\n",
       " array([0.00344789]),\n",
       " array([0.00344096]),\n",
       " array([0.003432]),\n",
       " array([0.00342112]),\n",
       " array([0.00340842]),\n",
       " array([0.00339399]),\n",
       " array([0.00337795]),\n",
       " array([0.00336037]),\n",
       " array([0.00334134]),\n",
       " array([0.00332096]),\n",
       " array([0.00329931]),\n",
       " array([0.00327646]),\n",
       " array([0.00325249]),\n",
       " array([0.00322747]),\n",
       " array([0.00320148]),\n",
       " array([0.00317458]),\n",
       " array([0.00314684]),\n",
       " array([0.00311831]),\n",
       " array([0.00308907]),\n",
       " array([0.00305916]),\n",
       " array([0.00302864]),\n",
       " array([0.00299756]),\n",
       " array([0.00296598]),\n",
       " array([0.00293394]),\n",
       " array([0.00290149]),\n",
       " array([0.00286867]),\n",
       " array([0.00283552]),\n",
       " array([0.00280209]),\n",
       " array([0.00276841]),\n",
       " array([0.00273452]),\n",
       " array([0.00270045]),\n",
       " array([0.00266624]),\n",
       " array([0.00263191]),\n",
       " array([0.00259751]),\n",
       " array([0.00256305]),\n",
       " array([0.00252857]),\n",
       " array([0.00249408]),\n",
       " array([0.00245962]),\n",
       " array([0.00242521]),\n",
       " array([0.00239087]),\n",
       " array([0.00235662]),\n",
       " array([0.00232248]),\n",
       " array([0.00228847]),\n",
       " array([0.0022546]),\n",
       " array([0.0022209]),\n",
       " array([0.00218737]),\n",
       " array([0.00215404]),\n",
       " array([0.00212092]),\n",
       " array([0.00208801]),\n",
       " array([0.00205534]),\n",
       " array([0.00202291]),\n",
       " array([0.00199073]),\n",
       " array([0.00195881]),\n",
       " array([0.00192717]),\n",
       " array([0.00189581]),\n",
       " array([0.00186474]),\n",
       " array([0.00183396]),\n",
       " array([0.00180349]),\n",
       " array([0.00177332]),\n",
       " array([0.00174347]),\n",
       " array([0.00171394]),\n",
       " array([0.00168473]),\n",
       " array([0.00165585]),\n",
       " array([0.0016273]),\n",
       " array([0.00159908]),\n",
       " array([0.0015712]),\n",
       " array([0.00154366]),\n",
       " array([0.00151646]),\n",
       " array([0.0014896]),\n",
       " array([0.00146309]),\n",
       " array([0.00143692]),\n",
       " array([0.0014111]),\n",
       " array([0.00138562]),\n",
       " array([0.00136049]),\n",
       " array([0.00133571]),\n",
       " array([0.00131127]),\n",
       " array([0.00128718]),\n",
       " array([0.00126343]),\n",
       " array([0.00124003]),\n",
       " array([0.00121696]),\n",
       " array([0.00119424]),\n",
       " array([0.00117186]),\n",
       " array([0.00114982]),\n",
       " array([0.00112811]),\n",
       " array([0.00110673]),\n",
       " array([0.00108569]),\n",
       " array([0.00106498]),\n",
       " array([0.00104459]),\n",
       " array([0.00102452]),\n",
       " array([0.00100478]),\n",
       " array([0.00098536]),\n",
       " array([0.00096625]),\n",
       " array([0.00094746]),\n",
       " array([0.00092898]),\n",
       " array([0.0009108]),\n",
       " array([0.00089293]),\n",
       " array([0.00087536]),\n",
       " array([0.00085809]),\n",
       " array([0.00084111]),\n",
       " array([0.00082442]),\n",
       " array([0.00080802]),\n",
       " array([0.00079191]),\n",
       " array([0.00077607]),\n",
       " array([0.00076052]),\n",
       " array([0.00074523]),\n",
       " array([0.00073022]),\n",
       " array([0.00071548]),\n",
       " array([0.000701]),\n",
       " array([0.00068678]),\n",
       " array([0.00067282]),\n",
       " array([0.00065911]),\n",
       " array([0.00064565]),\n",
       " array([0.00063244]),\n",
       " array([0.00061947]),\n",
       " array([0.00060674]),\n",
       " array([0.00059425]),\n",
       " array([0.00058199]),\n",
       " array([0.00056996]),\n",
       " array([0.00055815]),\n",
       " array([0.00054657]),\n",
       " array([0.0005352]),\n",
       " array([0.00052405]),\n",
       " array([0.00051311]),\n",
       " array([0.00050239]),\n",
       " array([0.00049186]),\n",
       " array([0.00048154]),\n",
       " array([0.00047142]),\n",
       " array([0.0004615]),\n",
       " array([0.00045176]),\n",
       " array([0.00044222]),\n",
       " array([0.00043286]),\n",
       " array([0.00042369]),\n",
       " array([0.0004147]),\n",
       " array([0.00040588]),\n",
       " array([0.00039724]),\n",
       " array([0.00038877]),\n",
       " array([0.00038046]),\n",
       " array([0.00037233]),\n",
       " array([0.00036435]),\n",
       " array([0.00035654]),\n",
       " array([0.00034888]),\n",
       " array([0.00034137]),\n",
       " array([0.00033402]),\n",
       " array([0.00032681]),\n",
       " array([0.00031976]),\n",
       " array([0.00031284]),\n",
       " array([0.00030607]),\n",
       " array([0.00029943]),\n",
       " array([0.00029293]),\n",
       " array([0.00028656]),\n",
       " array([0.00028032]),\n",
       " array([0.00027421]),\n",
       " array([0.00026823]),\n",
       " array([0.00026237]),\n",
       " array([0.00025663]),\n",
       " array([0.00025101]),\n",
       " array([0.00024551]),\n",
       " array([0.00024012]),\n",
       " array([0.00023485]),\n",
       " array([0.00022968]),\n",
       " array([0.00022463]),\n",
       " array([0.00021967]),\n",
       " array([0.00021483]),\n",
       " array([0.00021008]),\n",
       " array([0.00020544]),\n",
       " array([0.00020089]),\n",
       " array([0.00019644]),\n",
       " array([0.00019208]),\n",
       " array([0.00018782]),\n",
       " array([0.00018364]),\n",
       " array([0.00017956]),\n",
       " array([0.00017556]),\n",
       " array([0.00017165]),\n",
       " array([0.00016782]),\n",
       " array([0.00016407]),\n",
       " array([0.00016041]),\n",
       " array([0.00015682]),\n",
       " array([0.00015331]),\n",
       " array([0.00014987]),\n",
       " array([0.00014651]),\n",
       " array([0.00014322]),\n",
       " array([0.00014]),\n",
       " array([0.00013686]),\n",
       " array([0.00013378]),\n",
       " array([0.00013076]),\n",
       " array([0.00012781]),\n",
       " array([0.00012493]),\n",
       " array([0.00012211]),\n",
       " array([0.00011935]),\n",
       " array([0.00011665]),\n",
       " array([0.00011401]),\n",
       " array([0.00011143]),\n",
       " array([0.00010891]),\n",
       " array([0.00010644]),\n",
       " array([0.00010402]),\n",
       " array([0.00010166]),\n",
       " array([9.93459811e-05]),\n",
       " array([9.70861713e-05]),\n",
       " array([9.48761853e-05]),\n",
       " array([9.27149744e-05]),\n",
       " array([9.06015181e-05]),\n",
       " array([8.85348132e-05]),\n",
       " array([8.65138796e-05]),\n",
       " array([8.453775e-05]),\n",
       " array([8.26054749e-05]),\n",
       " array([8.0716129e-05]),\n",
       " array([7.88686755e-05]),\n",
       " array([7.70625716e-05]),\n",
       " array([7.52966441e-05]),\n",
       " array([7.35700672e-05]),\n",
       " array([7.18820159e-05]),\n",
       " array([7.02316821e-05]),\n",
       " array([6.86182554e-05]),\n",
       " array([6.70409225e-05]),\n",
       " array([6.54989232e-05]),\n",
       " array([6.3991511e-05]),\n",
       " array([6.25179166e-05]),\n",
       " array([6.10774101e-05]),\n",
       " array([5.96693005e-05]),\n",
       " array([5.82928653e-05]),\n",
       " array([5.69474264e-05]),\n",
       " array([5.56322828e-05]),\n",
       " array([5.43468135e-05]),\n",
       " array([5.30903383e-05]),\n",
       " array([5.18622398e-05]),\n",
       " array([5.06618948e-05]),\n",
       " array([4.94886948e-05]),\n",
       " array([4.83420505e-05]),\n",
       " array([4.72213918e-05]),\n",
       " array([4.61261524e-05]),\n",
       " array([4.505575e-05]),\n",
       " array([4.40096409e-05]),\n",
       " array([4.29872982e-05]),\n",
       " array([4.19882097e-05]),\n",
       " array([4.10118784e-05]),\n",
       " array([4.00577993e-05]),\n",
       " array([3.91254603e-05]),\n",
       " array([3.82143808e-05]),\n",
       " array([3.73240911e-05]),\n",
       " array([3.6454133e-05]),\n",
       " array([3.5604059e-05]),\n",
       " array([3.47734236e-05]),\n",
       " array([3.39617903e-05]),\n",
       " array([3.31687367e-05]),\n",
       " array([3.23938505e-05]),\n",
       " array([3.16367291e-05]),\n",
       " array([3.08969871e-05]),\n",
       " array([3.01742117e-05]),\n",
       " array([2.94680361e-05]),\n",
       " array([2.87780885e-05]),\n",
       " array([2.81040066e-05]),\n",
       " array([2.74454375e-05]),\n",
       " array([2.68020354e-05]),\n",
       " array([2.61734499e-05]),\n",
       " array([2.55593466e-05]),\n",
       " array([2.49594011e-05]),\n",
       " array([2.43732964e-05]),\n",
       " array([2.38007229e-05]),\n",
       " array([2.32413782e-05]),\n",
       " array([2.26949666e-05]),\n",
       " array([2.21611992e-05]),\n",
       " array([2.16397933e-05]),\n",
       " array([2.11304727e-05]),\n",
       " array([2.06329666e-05]),\n",
       " array([2.01470068e-05]),\n",
       " array([1.96723318e-05]),\n",
       " array([1.92086857e-05]),\n",
       " array([1.8755818e-05]),\n",
       " array([1.83134822e-05]),\n",
       " array([1.78814366e-05]),\n",
       " array([1.74594434e-05]),\n",
       " array([1.70472688e-05]),\n",
       " array([1.66446824e-05]),\n",
       " array([1.62514574e-05]),\n",
       " array([1.58673679e-05]),\n",
       " array([1.54921602e-05]),\n",
       " array([1.51256219e-05]),\n",
       " array([1.47676157e-05]),\n",
       " array([1.44179629e-05]),\n",
       " array([1.40765049e-05]),\n",
       " array([1.37430425e-05]),\n",
       " array([1.34173876e-05]),\n",
       " array([1.3099342e-05]),\n",
       " array([1.27887276e-05]),\n",
       " array([1.24853621e-05]),\n",
       " array([1.21891028e-05]),\n",
       " array([1.18997747e-05]),\n",
       " array([1.16172221e-05]),\n",
       " array([1.13413188e-05]),\n",
       " array([1.10718794e-05]),\n",
       " array([1.08087763e-05]),\n",
       " array([1.05518596e-05]),\n",
       " array([1.03009786e-05]),\n",
       " array([1.00559927e-05]),\n",
       " array([9.81676673e-06]),\n",
       " array([9.58316235e-06]),\n",
       " array([9.35505343e-06]),\n",
       " array([9.13231567e-06]),\n",
       " array([8.91481788e-06]),\n",
       " array([8.70243682e-06]),\n",
       " array([8.49505212e-06]),\n",
       " array([8.29254806e-06]),\n",
       " array([8.09481662e-06]),\n",
       " array([7.90174389e-06]),\n",
       " array([7.71322261e-06]),\n",
       " array([7.52914855e-06]),\n",
       " array([7.34942051e-06]),\n",
       " array([7.17392702e-06]),\n",
       " array([7.00257702e-06]),\n",
       " array([6.83527607e-06]),\n",
       " array([6.67193231e-06]),\n",
       " array([6.51245665e-06]),\n",
       " array([6.35674845e-06]),\n",
       " array([6.20472062e-06]),\n",
       " array([6.05629258e-06]),\n",
       " array([5.9113819e-06]),\n",
       " array([5.76990847e-06]),\n",
       " array([5.63178967e-06]),\n",
       " array([5.49693698e-06]),\n",
       " array([5.365283e-06]),\n",
       " array([5.23675326e-06]),\n",
       " array([5.11127546e-06]),\n",
       " array([4.9887779e-06]),\n",
       " array([4.8691829e-06]),\n",
       " array([4.75242806e-06]),\n",
       " array([4.63844709e-06]),\n",
       " array([4.52717525e-06]),\n",
       " array([4.41854927e-06]),\n",
       " array([4.31250724e-06]),\n",
       " array([4.20898882e-06]),\n",
       " array([4.10793556e-06]),\n",
       " array([4.00928885e-06]),\n",
       " array([3.91299172e-06]),\n",
       " array([3.81898823e-06]),\n",
       " array([3.72722333e-06]),\n",
       " array([3.63764283e-06]),\n",
       " array([3.55019752e-06]),\n",
       " array([3.46484435e-06]),\n",
       " array([3.38152732e-06]),\n",
       " array([3.30019758e-06]),\n",
       " array([3.22080713e-06]),\n",
       " array([3.14330873e-06]),\n",
       " array([3.0676559e-06]),\n",
       " array([2.99380872e-06]),\n",
       " array([2.92173065e-06]),\n",
       " array([2.85137366e-06]),\n",
       " array([2.78269667e-06]),\n",
       " array([2.71565953e-06]),\n",
       " array([2.6502229e-06]),\n",
       " array([2.58634833e-06]),\n",
       " array([2.52400056e-06]),\n",
       " array([2.46314495e-06]),\n",
       " array([2.4037445e-06]),\n",
       " array([2.34576482e-06]),\n",
       " array([2.28917239e-06]),\n",
       " array([2.23393447e-06]),\n",
       " array([2.18001916e-06]),\n",
       " array([2.12739491e-06]),\n",
       " array([2.0760311e-06]),\n",
       " array([2.02589821e-06]),\n",
       " array([1.9769672e-06]),\n",
       " array([1.92920968e-06]),\n",
       " array([1.88259798e-06]),\n",
       " array([1.83710501e-06]),\n",
       " array([1.79270408e-06]),\n",
       " array([1.74936938e-06]),\n",
       " array([1.70707573e-06]),\n",
       " array([1.6657984e-06]),\n",
       " array([1.6255132e-06]),\n",
       " array([1.58619646e-06]),\n",
       " array([1.54782498e-06])]"
      ]
     },
     "execution_count": 80,
     "metadata": {},
     "output_type": "execute_result"
    }
   ],
   "source": [
    "u_control = [np.dot(K, equilibrium_point - x[i]) for i in range(len(x))]\n",
    "u_control"
   ]
  },
  {
   "cell_type": "code",
   "execution_count": 81,
   "metadata": {},
   "outputs": [
    {
     "data": {
      "text/plain": [
       "[<matplotlib.lines.Line2D at 0x7f7c8c588910>]"
      ]
     },
     "execution_count": 81,
     "metadata": {},
     "output_type": "execute_result"
    },
    {
     "data": {
      "image/png": "[encoded data removed]",
      "text/plain": [
       "<Figure size 800x600 with 1 Axes>"
      ]
     },
     "metadata": {},
     "output_type": "display_data"
    }
   ],
   "source": [
    "import matplotlib.pyplot as plt\n",
    "plt.plot(t, u_control)"
   ]
  },
  {
   "cell_type": "code",
   "execution_count": 82,
   "metadata": {
    "collapsed": false,
    "deletable": true,
    "editable": true,
    "jupyter": {
     "outputs_hidden": false
    }
   },
   "outputs": [
    {
     "name": "stderr",
     "output_type": "stream",
     "text": [
      "MovieWriter ffmpeg unavailable; using Pillow instead.\n"
     ]
    },
    {
     "data": {
      "image/png": "[encoded data removed]",
      "text/plain": [
       "<Figure size 800x600 with 1 Axes>"
      ]
     },
     "metadata": {},
     "output_type": "display_data"
    }
   ],
   "source": [
    "animate_pendulum(t, x, arm_length, filename=\"closed-loop.gif\")"
   ]
  },
  {
   "cell_type": "code",
   "execution_count": 168,
   "metadata": {
    "collapsed": false,
    "deletable": true,
    "editable": true,
    "jupyter": {
     "outputs_hidden": false
    }
   },
   "outputs": [
    {
     "data": {
      "text/html": [
       "\n",
       "<video width=\"640\" height=\"480\" controls>\n",
       "  <source src=\"closed-loop.gif\" type=\"video/gif\">\n",
       "Your browser does not support the video tag, check out the YouTube version instead: http://youtu.be/SpgBHqW9om0\n",
       "</video>\n"
      ],
      "text/plain": [
       "<IPython.core.display.HTML object>"
      ]
     },
     "execution_count": 168,
     "metadata": {},
     "output_type": "execute_result"
    }
   ],
   "source": [
    "from IPython.display import HTML\n",
    "html = \\\n",
    "\"\"\"\n",
    "<video width=\"640\" height=\"480\" controls>\n",
    "  <source src=\"closed-loop.gif\" type=\"video/gif\">\n",
    "Your browser does not support the video tag, check out the YouTube version instead: http://youtu.be/SpgBHqW9om0\n",
    "</video>\n",
    "\"\"\"\n",
    "HTML(html)"
   ]
  },
  {
   "cell_type": "markdown",
   "metadata": {
    "deletable": true,
    "editable": true
   },
   "source": [
    "The video clearly shows that the controller can balance all $n$ of the pendulum links. The weightings in the lqr design can be tweaked to give different performance if needed.\n",
    "\n",
    "This example shows that the free and open source scientific Python tools for dynamics are easily comparable in ability and quality to a commercial package such as Mathematica. \n",
    "\n",
    "The IPython notebook for this example can be downloaded from https://github.com/pydy/pydy/tree/master/examples/npendulum. You can try out different $n$ values. I've gotten the equations of motion to compute for an open loop simulation of 10 links. My computer ran out of memory when I tried to compute for $n=50$. The controller weightings and initial conditions will probably have to be adjusted for better performance for $n>5$, but it should work."
   ]
  },
  {
   "cell_type": "code",
   "execution_count": 52,
   "metadata": {
    "collapsed": false,
    "deletable": true,
    "editable": true,
    "jupyter": {
     "outputs_hidden": false
    }
   },
   "outputs": [
    {
     "data": {
      "application/json": {
       "Software versions": [
        {
         "module": "Python",
         "version": "3.5.3 64bit [GCC 4.4.7 20120313 (Red Hat 4.4.7-1)]"
        },
        {
         "module": "IPython",
         "version": "4.2.0"
        },
        {
         "module": "OS",
         "version": "Linux 4.10.0 21 generic x86_64 with debian stretch sid"
        },
        {
         "module": "numpy",
         "version": "1.12.1"
        },
        {
         "module": "sympy",
         "version": "1.0"
        },
        {
         "module": "scipy",
         "version": "0.19.0"
        },
        {
         "module": "matplotlib",
         "version": "2.0.2"
        },
        {
         "module": "control",
         "version": "The 'control' distribution was not found and is required by the application"
        }
       ]
      },
      "text/html": [
       "<table><tr><th>Software</th><th>Version</th></tr><tr><td>Python</td><td>3.5.3 64bit [GCC 4.4.7 20120313 (Red Hat 4.4.7-1)]</td></tr><tr><td>IPython</td><td>4.2.0</td></tr><tr><td>OS</td><td>Linux 4.10.0 21 generic x86_64 with debian stretch sid</td></tr><tr><td>numpy</td><td>1.12.1</td></tr><tr><td>sympy</td><td>1.0</td></tr><tr><td>scipy</td><td>0.19.0</td></tr><tr><td>matplotlib</td><td>2.0.2</td></tr><tr><td>control</td><td>The 'control' distribution was not found and is required by the application</td></tr><tr><td colspan='2'>Mon May 29 13:57:02 2017 PDT</td></tr></table>"
      ],
      "text/latex": [
       "\\begin{tabular}{|l|l|}\\hline\n",
       "{\\bf Software} & {\\bf Version} \\\\ \\hline\\hline\n",
       "Python & 3.5.3 64bit [GCC 4.4.7 20120313 (Red Hat 4.4.7-1)] \\\\ \\hline\n",
       "IPython & 4.2.0 \\\\ \\hline\n",
       "OS & Linux 4.10.0 21 generic x86\\_64 with debian stretch sid \\\\ \\hline\n",
       "numpy & 1.12.1 \\\\ \\hline\n",
       "sympy & 1.0 \\\\ \\hline\n",
       "scipy & 0.19.0 \\\\ \\hline\n",
       "matplotlib & 2.0.2 \\\\ \\hline\n",
       "control & The 'control' distribution was not found and is required by the application \\\\ \\hline\n",
       "\\hline \\multicolumn{2}{|l|}{Mon May 29 13:57:02 2017 PDT} \\\\ \\hline\n",
       "\\end{tabular}\n"
      ],
      "text/plain": [
       "Software versions\n",
       "Python 3.5.3 64bit [GCC 4.4.7 20120313 (Red Hat 4.4.7-1)]\n",
       "IPython 4.2.0\n",
       "OS Linux 4.10.0 21 generic x86_64 with debian stretch sid\n",
       "numpy 1.12.1\n",
       "sympy 1.0\n",
       "scipy 0.19.0\n",
       "matplotlib 2.0.2\n",
       "control The 'control' distribution was not found and is required by the application\n",
       "Mon May 29 13:57:02 2017 PDT"
      ]
     },
     "execution_count": 52,
     "metadata": {},
     "output_type": "execute_result"
    }
   ],
   "source": [
    "# Install with pip install version_information\n",
    "%load_ext version_information\n",
    "%version_information numpy, sympy, scipy, matplotlib, control"
   ]
  }
 ],
 "metadata": {
  "kernelspec": {
   "display_name": "jaxpi",
   "language": "python",
   "name": "jaxpi"
  },
  "language_info": {
   "codemirror_mode": {
    "name": "ipython",
    "version": 3
   },
   "file_extension": ".py",
   "mimetype": "text/x-python",
   "name": "python",
   "nbconvert_exporter": "python",
   "pygments_lexer": "ipython3",
   "version": "3.11.8"
  }
 },
 "nbformat": 4,
 "nbformat_minor": 4
}
